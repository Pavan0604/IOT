{
  "nbformat": 4,
  "nbformat_minor": 0,
  "metadata": {
    "colab": {
      "name": "Compared Algo.ipynb",
      "provenance": [],
      "include_colab_link": true
    },
    "kernelspec": {
      "name": "python3",
      "display_name": "Python 3"
    },
    "language_info": {
      "name": "python"
    }
  },
  "cells": [
    {
      "cell_type": "markdown",
      "metadata": {
        "id": "view-in-github",
        "colab_type": "text"
      },
      "source": [
        "<a href=\"https://colab.research.google.com/github/Pavan0604/IOT/blob/main/Compared_Algo.ipynb\" target=\"_parent\"><img src=\"https://colab.research.google.com/assets/colab-badge.svg\" alt=\"Open In Colab\"/></a>"
      ]
    },
    {
      "cell_type": "code",
      "execution_count": null,
      "metadata": {
        "id": "fgGaGB8V__DG"
      },
      "outputs": [],
      "source": [
        "#graph 1\n",
        "x = [x for x in range(5,101,5)]\n",
        "y1 = [247.708543, 489.927310, 710.833807, 891.681648, 959.793275, 985.745118, 986.034171, 994.651000, 995.460000, 989.871000, 985.329000, 985.050000, 994.227000, 990.462000,\n",
        "     987.472000, 993.065000, 990.396000, 996.882000, 996.610000,  989.242000]\n",
        "z1 = [247.053, 490.396, 735.053, 989.28, 1230.260649087221, 1453.9012345679012, 1672.9756097560976, 1833.1740506329113, 1921.7903225806451, 1960.1865828092243, 1981.2068617558023, 1971.924, 1970.928,1965.572,\n",
        " 1978.23,\n",
        " 1971.416,\n",
        " 1981.753,\n",
        " 1977.482,1973.585,1984.835]\n",
        "\n",
        "m1 = [246.835, 498.816, 743.521, 987.857, 1238.377, 1483.432, 1740.3943943943943, 1977.2630522088352, 2221.5786228160327, 2438.271788990826, 2638.735978112175, 2800.6657142857143, 2896.0988593155894, 2944.6037527593817, 2964.5512295081967, 2971.827482447342, 2977.6606606606606, 2979.652, 2957.418, 2956.152]\n",
        "\n",
        "n1 = [248.717, 491.544, 738.867, 988.767, 1244.083, 1488.514, 1728.181, 1977.816, 2226.449, 2484.359, 2724.865, 2964.8004052684905, 3200.2256033578174, 3418.863145258103, 3623.34909596662, 3773.644569816643, 3872.3920099875154, 3911.7276736493936, 3942.318181818182, 3948.7575452716296]\n"
      ]
    },
    {
      "cell_type": "code",
      "source": [
        "y2= [232.24, 508.96, 735.9047619047619, 866.1818181818181, 955.8181818181819, 965.9545454545455, 979.6, 956.6, 1015.76, 968.88, 983.52, 955.32, 1011.08, 966.96, 983.2, 1003.84, 948.84, 992.92, 991.64, 954.68]\n",
        "z2= [240.2, 519.92, 718.68, 987.88, 1230.2083333333333, 1466.68, 1666.695652173913, 1813.142857142857, 1958.65, 1942.8333333333333, 1959.32, 1927.04, 2007.64, 1962.84, 2027.88, 1991.92, 2006.6, 1968.0, 1961.56, 2000.2]\n",
        "m2= [258.08, 487.56, 755.4, 923.84, 1273.76, 1486.24, 1740.68, 1943.36, 2222.8333333333335, 2449.9565217391305, 2697.1666666666665, 2778.8, 2894.4, 2958.2727272727275, 2885.6363636363635, 2964.84, 2954.4, 3022.88, 2959.24, 3032.0]\n",
        "n2= [258.28, 503.16, 740.44, 1016.16, 1202.12, 1464.2, 1714.2, 1995.2, 2247.8, 2449.8, 2628.36, 3007.76, 3243.88, 3391.2083333333335, 3568.5714285714284, 3717.95, 3908.1875, 3926.8, 3877.181818181818, 3878.1666666666665]"
      ],
      "metadata": {
        "id": "8f9cLjeNHy6q"
      },
      "execution_count": null,
      "outputs": []
    },
    {
      "cell_type": "code",
      "source": [
        "\n",
        "y3 = [138.14, 193.76, 208.1, 212.96, 218.12, 206.14, 194.72, 214.58, 232.82, 220.9, 218.62, 209.88, 217.32, 223.66, 216.04, 195.0, 218.24, 214.36, 220.12, 225.44]\n",
        "z3= [229.22, 377.92, 427.86, 437.16, 461.62, 466.38, 470.62, 472.32, 496.18, 469.14, 476.5, 488.1, 469.02, 469.64, 452.4, 480.68, 458.72, 461.22, 472.96, 475.14]\n",
        "m3 = [239.02, 456.64, 618.6, 685.96, 701.66, 678.04, 696.96, 730.82, 721.6, 733.68, 718.42, 730.5, 732.62, 737.06, 706.04, 724.22, 721.2, 724.38, 690.2, 708.68]\n",
        "n3= [254.16, 479.72, 712.64, 886.9, 972.12, 950.98, 961.92, 954.46, 930.74, 943.74, 955.26, 965.36, 971.74, 957.98, 956.26, 938.9, 944.58, 987.42, 939.56, 971.1]\n"
      ],
      "metadata": {
        "id": "AviZXK95H4ch"
      },
      "execution_count": null,
      "outputs": []
    },
    {
      "cell_type": "code",
      "source": [
        "import plotly.express as px\n",
        "import plotly.graph_objects as go\n",
        "from plotly.graph_objs.layout import Title\n",
        "import pandas as pd\n",
        "\n",
        "\n",
        "fig = go.Figure()\n",
        "fig.add_trace(\n",
        "    go.Scatter(x=x, y=y1, name=\"Gateways=20 for greedy equation1\", line=dict(color=\"blue\"), mode=\"lines+markers\")   \n",
        ")\n",
        "fig.add_trace(\n",
        "    go.Scatter(x=x, y=z1, name=\"Gateways=40 for greedy equation1\", mode='lines+markers')\n",
        ")\n",
        "fig.add_trace(\n",
        "    go.Scatter(x=x, y=m1, name=\"Gateways=60 for greedy equation1\", mode=\"lines+markers\")\n",
        ")\n",
        "fig.add_trace(\n",
        "    go.Scatter(x=x, y=n1, name=\"Gateways=80 for greedy equation1\", mode=\"lines+markers\")\n",
        ")\n",
        "\n",
        "fig.add_trace(\n",
        "    go.Scatter(x=x, y=y2, name=\"Gateways=20 for greedy equation2\", line=dict(color=\"blue\"), mode=\"lines\")   \n",
        ")\n",
        "fig.add_trace(\n",
        "    go.Scatter(x=x, y=z2, name=\"Gateways=40 for greedy equation2\", mode='lines')\n",
        ")\n",
        "fig.add_trace(\n",
        "    go.Scatter(x=x, y=m2, name=\"Gateways=60 for greedy equation2\", mode=\"lines\")\n",
        ")\n",
        "fig.add_trace(\n",
        "    go.Scatter(x=x, y=n2, name=\"Gateways=80 for greedy equation2\", line=dict(color=\"red\"),mode=\"lines\")\n",
        ")\n",
        "\n",
        "fig.add_trace(\n",
        "    go.Scatter(x=x, y=y3, name=\"Gateways=20 for brute force\", line=dict(color='royalblue', width=3, dash='dot'))   \n",
        ")\n",
        "fig.add_trace(\n",
        "    go.Scatter(x=x, y=z3, name=\"Gateways=40 for brute force\", line=dict(color='firebrick', width=3, dash='dot'))\n",
        ")\n",
        "fig.add_trace(\n",
        "    go.Scatter(x=x, y=m3, name=\"Gateways=60 for brute force\", line=dict(color='green', width=3, dash='dot'))\n",
        ")\n",
        "fig.add_trace(\n",
        "    go.Scatter(x=x, y=n3, name=\"Gateways=80 for brute force\", line=dict(color='red', width=3, dash='dot'))\n",
        ")\n",
        "\n",
        "fig.update_layout(\n",
        "    title = \"Total Power Consumption and Variable Nodes with Constant Gateways\",\n",
        "    xaxis_title = \"Variable Nodes\",\n",
        "    yaxis_title = \"Total Power Consumption\",\n",
        ")\n",
        "fig.update_traces(textposition = \"bottom right\")"
      ],
      "metadata": {
        "colab": {
          "base_uri": "https://localhost:8080/",
          "height": 542
        },
        "id": "fz8PzC1wfmQe",
        "outputId": "8bbd5eaf-4f5d-42ee-c058-bf894b1e9232"
      },
      "execution_count": null,
      "outputs": [
        {
          "output_type": "display_data",
          "data": {
            "text/html": [
              "<html>\n",
              "<head><meta charset=\"utf-8\" /></head>\n",
              "<body>\n",
              "    <div>            <script src=\"https://cdnjs.cloudflare.com/ajax/libs/mathjax/2.7.5/MathJax.js?config=TeX-AMS-MML_SVG\"></script><script type=\"text/javascript\">if (window.MathJax) {MathJax.Hub.Config({SVG: {font: \"STIX-Web\"}});}</script>                <script type=\"text/javascript\">window.PlotlyConfig = {MathJaxConfig: 'local'};</script>\n",
              "        <script src=\"https://cdn.plot.ly/plotly-2.8.3.min.js\"></script>                <div id=\"cbb4b26c-7a6d-4fee-9b8e-d8542cf75515\" class=\"plotly-graph-div\" style=\"height:525px; width:100%;\"></div>            <script type=\"text/javascript\">                                    window.PLOTLYENV=window.PLOTLYENV || {};                                    if (document.getElementById(\"cbb4b26c-7a6d-4fee-9b8e-d8542cf75515\")) {                    Plotly.newPlot(                        \"cbb4b26c-7a6d-4fee-9b8e-d8542cf75515\",                        [{\"line\":{\"color\":\"blue\"},\"mode\":\"lines+markers\",\"name\":\"Gateways=20 for greedy equation1\",\"x\":[5,10,15,20,25,30,35,40,45,50,55,60,65,70,75,80,85,90,95,100],\"y\":[247.708543,489.92731,710.833807,891.681648,959.793275,985.745118,986.034171,994.651,995.46,989.871,985.329,985.05,994.227,990.462,987.472,993.065,990.396,996.882,996.61,989.242],\"type\":\"scatter\",\"textposition\":\"bottom right\"},{\"mode\":\"lines+markers\",\"name\":\"Gateways=40 for greedy equation1\",\"x\":[5,10,15,20,25,30,35,40,45,50,55,60,65,70,75,80,85,90,95,100],\"y\":[247.053,490.396,735.053,989.28,1230.260649087221,1453.9012345679012,1672.9756097560976,1833.1740506329113,1921.7903225806451,1960.1865828092243,1981.2068617558023,1971.924,1970.928,1965.572,1978.23,1971.416,1981.753,1977.482,1973.585,1984.835],\"type\":\"scatter\",\"textposition\":\"bottom right\"},{\"mode\":\"lines+markers\",\"name\":\"Gateways=60 for greedy equation1\",\"x\":[5,10,15,20,25,30,35,40,45,50,55,60,65,70,75,80,85,90,95,100],\"y\":[246.835,498.816,743.521,987.857,1238.377,1483.432,1740.3943943943943,1977.2630522088352,2221.5786228160327,2438.271788990826,2638.735978112175,2800.6657142857143,2896.0988593155894,2944.6037527593817,2964.5512295081967,2971.827482447342,2977.6606606606606,2979.652,2957.418,2956.152],\"type\":\"scatter\",\"textposition\":\"bottom right\"},{\"mode\":\"lines+markers\",\"name\":\"Gateways=80 for greedy equation1\",\"x\":[5,10,15,20,25,30,35,40,45,50,55,60,65,70,75,80,85,90,95,100],\"y\":[248.717,491.544,738.867,988.767,1244.083,1488.514,1728.181,1977.816,2226.449,2484.359,2724.865,2964.8004052684905,3200.2256033578174,3418.863145258103,3623.34909596662,3773.644569816643,3872.3920099875154,3911.7276736493936,3942.318181818182,3948.7575452716296],\"type\":\"scatter\",\"textposition\":\"bottom right\"},{\"line\":{\"color\":\"blue\"},\"mode\":\"lines\",\"name\":\"Gateways=20 for greedy equation2\",\"x\":[5,10,15,20,25,30,35,40,45,50,55,60,65,70,75,80,85,90,95,100],\"y\":[232.24,508.96,735.9047619047619,866.1818181818181,955.8181818181819,965.9545454545455,979.6,956.6,1015.76,968.88,983.52,955.32,1011.08,966.96,983.2,1003.84,948.84,992.92,991.64,954.68],\"type\":\"scatter\",\"textposition\":\"bottom right\"},{\"mode\":\"lines\",\"name\":\"Gateways=40 for greedy equation2\",\"x\":[5,10,15,20,25,30,35,40,45,50,55,60,65,70,75,80,85,90,95,100],\"y\":[240.2,519.92,718.68,987.88,1230.2083333333333,1466.68,1666.695652173913,1813.142857142857,1958.65,1942.8333333333333,1959.32,1927.04,2007.64,1962.84,2027.88,1991.92,2006.6,1968.0,1961.56,2000.2],\"type\":\"scatter\",\"textposition\":\"bottom right\"},{\"mode\":\"lines\",\"name\":\"Gateways=60 for greedy equation2\",\"x\":[5,10,15,20,25,30,35,40,45,50,55,60,65,70,75,80,85,90,95,100],\"y\":[258.08,487.56,755.4,923.84,1273.76,1486.24,1740.68,1943.36,2222.8333333333335,2449.9565217391305,2697.1666666666665,2778.8,2894.4,2958.2727272727275,2885.6363636363635,2964.84,2954.4,3022.88,2959.24,3032.0],\"type\":\"scatter\",\"textposition\":\"bottom right\"},{\"line\":{\"color\":\"red\"},\"mode\":\"lines\",\"name\":\"Gateways=80 for greedy equation2\",\"x\":[5,10,15,20,25,30,35,40,45,50,55,60,65,70,75,80,85,90,95,100],\"y\":[258.28,503.16,740.44,1016.16,1202.12,1464.2,1714.2,1995.2,2247.8,2449.8,2628.36,3007.76,3243.88,3391.2083333333335,3568.5714285714284,3717.95,3908.1875,3926.8,3877.181818181818,3878.1666666666665],\"type\":\"scatter\",\"textposition\":\"bottom right\"},{\"line\":{\"color\":\"royalblue\",\"dash\":\"dot\",\"width\":3},\"name\":\"Gateways=20 for brute force\",\"x\":[5,10,15,20,25,30,35,40,45,50,55,60,65,70,75,80,85,90,95,100],\"y\":[138.14,193.76,208.1,212.96,218.12,206.14,194.72,214.58,232.82,220.9,218.62,209.88,217.32,223.66,216.04,195.0,218.24,214.36,220.12,225.44],\"type\":\"scatter\",\"textposition\":\"bottom right\"},{\"line\":{\"color\":\"firebrick\",\"dash\":\"dot\",\"width\":3},\"name\":\"Gateways=40 for brute force\",\"x\":[5,10,15,20,25,30,35,40,45,50,55,60,65,70,75,80,85,90,95,100],\"y\":[229.22,377.92,427.86,437.16,461.62,466.38,470.62,472.32,496.18,469.14,476.5,488.1,469.02,469.64,452.4,480.68,458.72,461.22,472.96,475.14],\"type\":\"scatter\",\"textposition\":\"bottom right\"},{\"line\":{\"color\":\"green\",\"dash\":\"dot\",\"width\":3},\"name\":\"Gateways=60 for brute force\",\"x\":[5,10,15,20,25,30,35,40,45,50,55,60,65,70,75,80,85,90,95,100],\"y\":[239.02,456.64,618.6,685.96,701.66,678.04,696.96,730.82,721.6,733.68,718.42,730.5,732.62,737.06,706.04,724.22,721.2,724.38,690.2,708.68],\"type\":\"scatter\",\"textposition\":\"bottom right\"},{\"line\":{\"color\":\"red\",\"dash\":\"dot\",\"width\":3},\"name\":\"Gateways=80 for brute force\",\"x\":[5,10,15,20,25,30,35,40,45,50,55,60,65,70,75,80,85,90,95,100],\"y\":[254.16,479.72,712.64,886.9,972.12,950.98,961.92,954.46,930.74,943.74,955.26,965.36,971.74,957.98,956.26,938.9,944.58,987.42,939.56,971.1],\"type\":\"scatter\",\"textposition\":\"bottom right\"}],                        {\"template\":{\"data\":{\"bar\":[{\"error_x\":{\"color\":\"#2a3f5f\"},\"error_y\":{\"color\":\"#2a3f5f\"},\"marker\":{\"line\":{\"color\":\"#E5ECF6\",\"width\":0.5},\"pattern\":{\"fillmode\":\"overlay\",\"size\":10,\"solidity\":0.2}},\"type\":\"bar\"}],\"barpolar\":[{\"marker\":{\"line\":{\"color\":\"#E5ECF6\",\"width\":0.5},\"pattern\":{\"fillmode\":\"overlay\",\"size\":10,\"solidity\":0.2}},\"type\":\"barpolar\"}],\"carpet\":[{\"aaxis\":{\"endlinecolor\":\"#2a3f5f\",\"gridcolor\":\"white\",\"linecolor\":\"white\",\"minorgridcolor\":\"white\",\"startlinecolor\":\"#2a3f5f\"},\"baxis\":{\"endlinecolor\":\"#2a3f5f\",\"gridcolor\":\"white\",\"linecolor\":\"white\",\"minorgridcolor\":\"white\",\"startlinecolor\":\"#2a3f5f\"},\"type\":\"carpet\"}],\"choropleth\":[{\"colorbar\":{\"outlinewidth\":0,\"ticks\":\"\"},\"type\":\"choropleth\"}],\"contour\":[{\"colorbar\":{\"outlinewidth\":0,\"ticks\":\"\"},\"colorscale\":[[0.0,\"#0d0887\"],[0.1111111111111111,\"#46039f\"],[0.2222222222222222,\"#7201a8\"],[0.3333333333333333,\"#9c179e\"],[0.4444444444444444,\"#bd3786\"],[0.5555555555555556,\"#d8576b\"],[0.6666666666666666,\"#ed7953\"],[0.7777777777777778,\"#fb9f3a\"],[0.8888888888888888,\"#fdca26\"],[1.0,\"#f0f921\"]],\"type\":\"contour\"}],\"contourcarpet\":[{\"colorbar\":{\"outlinewidth\":0,\"ticks\":\"\"},\"type\":\"contourcarpet\"}],\"heatmap\":[{\"colorbar\":{\"outlinewidth\":0,\"ticks\":\"\"},\"colorscale\":[[0.0,\"#0d0887\"],[0.1111111111111111,\"#46039f\"],[0.2222222222222222,\"#7201a8\"],[0.3333333333333333,\"#9c179e\"],[0.4444444444444444,\"#bd3786\"],[0.5555555555555556,\"#d8576b\"],[0.6666666666666666,\"#ed7953\"],[0.7777777777777778,\"#fb9f3a\"],[0.8888888888888888,\"#fdca26\"],[1.0,\"#f0f921\"]],\"type\":\"heatmap\"}],\"heatmapgl\":[{\"colorbar\":{\"outlinewidth\":0,\"ticks\":\"\"},\"colorscale\":[[0.0,\"#0d0887\"],[0.1111111111111111,\"#46039f\"],[0.2222222222222222,\"#7201a8\"],[0.3333333333333333,\"#9c179e\"],[0.4444444444444444,\"#bd3786\"],[0.5555555555555556,\"#d8576b\"],[0.6666666666666666,\"#ed7953\"],[0.7777777777777778,\"#fb9f3a\"],[0.8888888888888888,\"#fdca26\"],[1.0,\"#f0f921\"]],\"type\":\"heatmapgl\"}],\"histogram\":[{\"marker\":{\"pattern\":{\"fillmode\":\"overlay\",\"size\":10,\"solidity\":0.2}},\"type\":\"histogram\"}],\"histogram2d\":[{\"colorbar\":{\"outlinewidth\":0,\"ticks\":\"\"},\"colorscale\":[[0.0,\"#0d0887\"],[0.1111111111111111,\"#46039f\"],[0.2222222222222222,\"#7201a8\"],[0.3333333333333333,\"#9c179e\"],[0.4444444444444444,\"#bd3786\"],[0.5555555555555556,\"#d8576b\"],[0.6666666666666666,\"#ed7953\"],[0.7777777777777778,\"#fb9f3a\"],[0.8888888888888888,\"#fdca26\"],[1.0,\"#f0f921\"]],\"type\":\"histogram2d\"}],\"histogram2dcontour\":[{\"colorbar\":{\"outlinewidth\":0,\"ticks\":\"\"},\"colorscale\":[[0.0,\"#0d0887\"],[0.1111111111111111,\"#46039f\"],[0.2222222222222222,\"#7201a8\"],[0.3333333333333333,\"#9c179e\"],[0.4444444444444444,\"#bd3786\"],[0.5555555555555556,\"#d8576b\"],[0.6666666666666666,\"#ed7953\"],[0.7777777777777778,\"#fb9f3a\"],[0.8888888888888888,\"#fdca26\"],[1.0,\"#f0f921\"]],\"type\":\"histogram2dcontour\"}],\"mesh3d\":[{\"colorbar\":{\"outlinewidth\":0,\"ticks\":\"\"},\"type\":\"mesh3d\"}],\"parcoords\":[{\"line\":{\"colorbar\":{\"outlinewidth\":0,\"ticks\":\"\"}},\"type\":\"parcoords\"}],\"pie\":[{\"automargin\":true,\"type\":\"pie\"}],\"scatter\":[{\"marker\":{\"colorbar\":{\"outlinewidth\":0,\"ticks\":\"\"}},\"type\":\"scatter\"}],\"scatter3d\":[{\"line\":{\"colorbar\":{\"outlinewidth\":0,\"ticks\":\"\"}},\"marker\":{\"colorbar\":{\"outlinewidth\":0,\"ticks\":\"\"}},\"type\":\"scatter3d\"}],\"scattercarpet\":[{\"marker\":{\"colorbar\":{\"outlinewidth\":0,\"ticks\":\"\"}},\"type\":\"scattercarpet\"}],\"scattergeo\":[{\"marker\":{\"colorbar\":{\"outlinewidth\":0,\"ticks\":\"\"}},\"type\":\"scattergeo\"}],\"scattergl\":[{\"marker\":{\"colorbar\":{\"outlinewidth\":0,\"ticks\":\"\"}},\"type\":\"scattergl\"}],\"scattermapbox\":[{\"marker\":{\"colorbar\":{\"outlinewidth\":0,\"ticks\":\"\"}},\"type\":\"scattermapbox\"}],\"scatterpolar\":[{\"marker\":{\"colorbar\":{\"outlinewidth\":0,\"ticks\":\"\"}},\"type\":\"scatterpolar\"}],\"scatterpolargl\":[{\"marker\":{\"colorbar\":{\"outlinewidth\":0,\"ticks\":\"\"}},\"type\":\"scatterpolargl\"}],\"scatterternary\":[{\"marker\":{\"colorbar\":{\"outlinewidth\":0,\"ticks\":\"\"}},\"type\":\"scatterternary\"}],\"surface\":[{\"colorbar\":{\"outlinewidth\":0,\"ticks\":\"\"},\"colorscale\":[[0.0,\"#0d0887\"],[0.1111111111111111,\"#46039f\"],[0.2222222222222222,\"#7201a8\"],[0.3333333333333333,\"#9c179e\"],[0.4444444444444444,\"#bd3786\"],[0.5555555555555556,\"#d8576b\"],[0.6666666666666666,\"#ed7953\"],[0.7777777777777778,\"#fb9f3a\"],[0.8888888888888888,\"#fdca26\"],[1.0,\"#f0f921\"]],\"type\":\"surface\"}],\"table\":[{\"cells\":{\"fill\":{\"color\":\"#EBF0F8\"},\"line\":{\"color\":\"white\"}},\"header\":{\"fill\":{\"color\":\"#C8D4E3\"},\"line\":{\"color\":\"white\"}},\"type\":\"table\"}]},\"layout\":{\"annotationdefaults\":{\"arrowcolor\":\"#2a3f5f\",\"arrowhead\":0,\"arrowwidth\":1},\"autotypenumbers\":\"strict\",\"coloraxis\":{\"colorbar\":{\"outlinewidth\":0,\"ticks\":\"\"}},\"colorscale\":{\"diverging\":[[0,\"#8e0152\"],[0.1,\"#c51b7d\"],[0.2,\"#de77ae\"],[0.3,\"#f1b6da\"],[0.4,\"#fde0ef\"],[0.5,\"#f7f7f7\"],[0.6,\"#e6f5d0\"],[0.7,\"#b8e186\"],[0.8,\"#7fbc41\"],[0.9,\"#4d9221\"],[1,\"#276419\"]],\"sequential\":[[0.0,\"#0d0887\"],[0.1111111111111111,\"#46039f\"],[0.2222222222222222,\"#7201a8\"],[0.3333333333333333,\"#9c179e\"],[0.4444444444444444,\"#bd3786\"],[0.5555555555555556,\"#d8576b\"],[0.6666666666666666,\"#ed7953\"],[0.7777777777777778,\"#fb9f3a\"],[0.8888888888888888,\"#fdca26\"],[1.0,\"#f0f921\"]],\"sequentialminus\":[[0.0,\"#0d0887\"],[0.1111111111111111,\"#46039f\"],[0.2222222222222222,\"#7201a8\"],[0.3333333333333333,\"#9c179e\"],[0.4444444444444444,\"#bd3786\"],[0.5555555555555556,\"#d8576b\"],[0.6666666666666666,\"#ed7953\"],[0.7777777777777778,\"#fb9f3a\"],[0.8888888888888888,\"#fdca26\"],[1.0,\"#f0f921\"]]},\"colorway\":[\"#636efa\",\"#EF553B\",\"#00cc96\",\"#ab63fa\",\"#FFA15A\",\"#19d3f3\",\"#FF6692\",\"#B6E880\",\"#FF97FF\",\"#FECB52\"],\"font\":{\"color\":\"#2a3f5f\"},\"geo\":{\"bgcolor\":\"white\",\"lakecolor\":\"white\",\"landcolor\":\"#E5ECF6\",\"showlakes\":true,\"showland\":true,\"subunitcolor\":\"white\"},\"hoverlabel\":{\"align\":\"left\"},\"hovermode\":\"closest\",\"mapbox\":{\"style\":\"light\"},\"paper_bgcolor\":\"white\",\"plot_bgcolor\":\"#E5ECF6\",\"polar\":{\"angularaxis\":{\"gridcolor\":\"white\",\"linecolor\":\"white\",\"ticks\":\"\"},\"bgcolor\":\"#E5ECF6\",\"radialaxis\":{\"gridcolor\":\"white\",\"linecolor\":\"white\",\"ticks\":\"\"}},\"scene\":{\"xaxis\":{\"backgroundcolor\":\"#E5ECF6\",\"gridcolor\":\"white\",\"gridwidth\":2,\"linecolor\":\"white\",\"showbackground\":true,\"ticks\":\"\",\"zerolinecolor\":\"white\"},\"yaxis\":{\"backgroundcolor\":\"#E5ECF6\",\"gridcolor\":\"white\",\"gridwidth\":2,\"linecolor\":\"white\",\"showbackground\":true,\"ticks\":\"\",\"zerolinecolor\":\"white\"},\"zaxis\":{\"backgroundcolor\":\"#E5ECF6\",\"gridcolor\":\"white\",\"gridwidth\":2,\"linecolor\":\"white\",\"showbackground\":true,\"ticks\":\"\",\"zerolinecolor\":\"white\"}},\"shapedefaults\":{\"line\":{\"color\":\"#2a3f5f\"}},\"ternary\":{\"aaxis\":{\"gridcolor\":\"white\",\"linecolor\":\"white\",\"ticks\":\"\"},\"baxis\":{\"gridcolor\":\"white\",\"linecolor\":\"white\",\"ticks\":\"\"},\"bgcolor\":\"#E5ECF6\",\"caxis\":{\"gridcolor\":\"white\",\"linecolor\":\"white\",\"ticks\":\"\"}},\"title\":{\"x\":0.05},\"xaxis\":{\"automargin\":true,\"gridcolor\":\"white\",\"linecolor\":\"white\",\"ticks\":\"\",\"title\":{\"standoff\":15},\"zerolinecolor\":\"white\",\"zerolinewidth\":2},\"yaxis\":{\"automargin\":true,\"gridcolor\":\"white\",\"linecolor\":\"white\",\"ticks\":\"\",\"title\":{\"standoff\":15},\"zerolinecolor\":\"white\",\"zerolinewidth\":2}}},\"title\":{\"text\":\"Total Power Consumption and Variable Nodes with Constant Gateways\"},\"xaxis\":{\"title\":{\"text\":\"Variable Nodes\"}},\"yaxis\":{\"title\":{\"text\":\"Total Power Consumption\"}}},                        {\"responsive\": true}                    ).then(function(){\n",
              "                            \n",
              "var gd = document.getElementById('cbb4b26c-7a6d-4fee-9b8e-d8542cf75515');\n",
              "var x = new MutationObserver(function (mutations, observer) {{\n",
              "        var display = window.getComputedStyle(gd).display;\n",
              "        if (!display || display === 'none') {{\n",
              "            console.log([gd, 'removed!']);\n",
              "            Plotly.purge(gd);\n",
              "            observer.disconnect();\n",
              "        }}\n",
              "}});\n",
              "\n",
              "// Listen for the removal of the full notebook cells\n",
              "var notebookContainer = gd.closest('#notebook-container');\n",
              "if (notebookContainer) {{\n",
              "    x.observe(notebookContainer, {childList: true});\n",
              "}}\n",
              "\n",
              "// Listen for the clearing of the current output cell\n",
              "var outputEl = gd.closest('.output');\n",
              "if (outputEl) {{\n",
              "    x.observe(outputEl, {childList: true});\n",
              "}}\n",
              "\n",
              "                        })                };                            </script>        </div>\n",
              "</body>\n",
              "</html>"
            ]
          },
          "metadata": {}
        }
      ]
    },
    {
      "cell_type": "code",
      "source": [
        "#Graph2 : Nodes are constant and Gateways are variables\n",
        "x = [x for x in range(5,101,5)]\n",
        "y1 = [259.85, 500.2448979591837, 717.746835443038, 890.25, 950.179104477612, 1006.4574468085107, 1000.6666666666666, 975.21, 1000.48, 991.77, 998.5, 1011.36, 982.42, 1008.97, 982.88, 1001.69, 1000.3, 975.47, 979.64, 1010.63]\n",
        "z1= [243.85, 499.09, 748.31, 996.58, 1253.43, 1480.8541666666667, 1699.759493670886, 1843.4647887323943, 1933.8133333333333, 1955.0119047619048, 1978.642857142857, 1987.38, 1986.38, 1982.46, 1988.31, 1985.84, 1986.96, 1978.43, 1982.56, 1968.83]\n",
        "m1= [244.54, 497.36, 743.63, 989.0, 1244.3, 1494.78, 1733.62, 1978.09, 2231.7938144329896, 2435.7608695652175, 2639.6, 2800.6491228070176, 2927.753424657534, 2943.1011235955057, 2960.1935483870966, 3002.6666666666665, 2939.67, 2938.71, 2965.54, 2949.26]\n",
        "n1= [251.41, 481.43, 728.87, 972.4, 1225.13, 1472.65, 1707.33, 2006.21, 2246.24, 2489.06, 2759.85, 2964.68, 3197.226804123711, 3436.7191011235955, 3658.5333333333333, 3803.472222222222, 3819.3896103896104, 3898.945945945946, 3896.453608247423, 4001.5894736842106]\n"
      ],
      "metadata": {
        "id": "h2LZQ7QkgE9V"
      },
      "execution_count": null,
      "outputs": []
    },
    {
      "cell_type": "code",
      "source": [
        "y2=[262.56, 476.4347826086956, 702.421052631579, 863.0, 999.0526315789474, 966.6086956521739, 993.16, 972.08, 970.6, 1043.68, 996.0, 999.64, 973.08, 973.52, 979.56, 991.84, 971.0, 946.88, 942.04, 960.16]\n",
        "z2=[260.32, 496.48, 719.36, 978.24, 1253.36, 1463.4347826086957, 1653.0, 1840.625, 1957.2777777777778, 1995.4761904761904, 2051.04, 1960.72, 1984.12, 1984.24, 1967.64, 2015.16, 1986.36, 1985.04, 1948.72, 1957.6]\n",
        "m1=[272.2, 514.84, 744.36, 983.56, 1262.76, 1450.04, 1718.04, 1956.2916666666667, 2253.4347826086955, 2446.0, 2639.9375, 2836.8333333333335, 2880.6363636363635, 2921.0434782608695, 2884.2916666666665, 3042.88, 2962.76, 3026.16, 2832.28, 2992.68]\n",
        "n2=[258.6, 488.12, 737.92, 1030.6, 1253.16, 1474.44, 1724.52, 1955.96, 2245.0, 2462.84, 2747.16, 3003.12, 3185.7083333333335, 3392.3478260869565, 3679.5, 3723.05, 3915.8, 3883.2105263157896, 3942.2083333333335, 3926.0]"
      ],
      "metadata": {
        "id": "MC_EmIKglRpL"
      },
      "execution_count": null,
      "outputs": []
    },
    {
      "cell_type": "code",
      "source": [
        "y3 = [0.0, 43.1, 94.1, 105.7, 116.4, 156.5, 204.8, 214.7, 173.1, 227.1, 195.0, 277.4, 225.6, 274.9, 237.6, 271.7, 257.5, 226.7, 222.8, 248.5]\n",
        "z3 = [0.0, 74.7, 93.9, 161.7, 157.8, 228.7, 301.9, 334.8, 349.1, 378.5, 433.1, 430.1, 484.6, 495.3, 493.1, 510.8, 492.5, 475.5, 493.7, 534.8]\n",
        "m3 = [0.0, 70.9, 128.8, 178.8, 220.8, 257.9, 291.8, 358.9, 416.4, 444.3, 489.7, 516.5, 574.9, 605.7, 624.3, 696.1, 664.9, 707.9, 672.1, 711.7]\n",
        "n3 = [0.0, 88.3, 111.7, 177.1, 209.7, 299.1, 296.1, 365.5, 386.6, 463.6, 486.8, 534.0, 599.2, 624.4, 721.7, 708.8, 719.7, 792.5, 922.5, 896.2]"
      ],
      "metadata": {
        "id": "cg39CLaGqyrP"
      },
      "execution_count": null,
      "outputs": []
    },
    {
      "cell_type": "code",
      "source": [
        "import plotly.express as px\n",
        "import plotly.graph_objects as go\n",
        "from plotly.graph_objs.layout import Title\n",
        "import pandas as pd\n",
        "\n",
        "\n",
        "fig = go.Figure()\n",
        "fig.add_trace(\n",
        "    go.Scatter(x=x, y=y1, name=\"Nodes=20 for greedy equation1\", line=dict(color=\"blue\"), mode=\"lines+markers\")   \n",
        ")\n",
        "fig.add_trace(\n",
        "    go.Scatter(x=x, y=z1, name=\"Nodes=40 for greedy equation1\", mode='lines+markers')\n",
        ")\n",
        "fig.add_trace(\n",
        "    go.Scatter(x=x, y=m1, name=\"Nodes=60 for greedy equation1\", mode=\"lines+markers\")\n",
        ")\n",
        "fig.add_trace(\n",
        "    go.Scatter(x=x, y=n1, name=\"Nodes=80 for greedy equation1\", mode=\"lines+markers\")\n",
        ")\n",
        "\n",
        "fig.add_trace(\n",
        "    go.Scatter(x=x, y=y2, name=\"Nodes=20 for greedy equation2\", line=dict(color=\"blue\"), mode=\"lines\")   \n",
        ")\n",
        "fig.add_trace(\n",
        "    go.Scatter(x=x, y=z2, name=\"Nodes=40 for greedy equation2\", mode='lines')\n",
        ")\n",
        "fig.add_trace(\n",
        "    go.Scatter(x=x, y=m2, name=\"Nodes=60 for greedy equation2\", mode=\"lines\")\n",
        ")\n",
        "fig.add_trace(\n",
        "    go.Scatter(x=x, y=n2, name=\"Nodes=80 for greedy equation2\", line=dict(color=\"red\"),mode=\"lines\")\n",
        ")\n",
        "\n",
        "fig.add_trace(\n",
        "    go.Scatter(x=x, y=y3, name=\"Nodes=20 for brute force\", line=dict(color='royalblue', width=3, dash='dot'))   \n",
        ")\n",
        "fig.add_trace(\n",
        "    go.Scatter(x=x, y=z3, name=\"Nodes=40 for brute force\", line=dict(color='firebrick', width=3, dash='dot'))\n",
        ")\n",
        "fig.add_trace(\n",
        "    go.Scatter(x=x, y=m3, name=\"Nodes=60 for brute force\", line=dict(color='green', width=3, dash='dot'))\n",
        ")\n",
        "fig.add_trace(\n",
        "    go.Scatter(x=x, y=n3, name=\"Nodes=80 for brute force\", line=dict(color='red', width=3, dash='dot'))\n",
        ")\n",
        "\n",
        "fig.update_layout(\n",
        "    title = \"Total Power Consumption v/s Variable Gateways with Constant Nodes\",\n",
        "    xaxis_title = \"Variable Gateways\",\n",
        "    yaxis_title = \"Total Power Consumption\",\n",
        ")\n",
        "fig.update_traces(textposition = \"bottom right\")"
      ],
      "metadata": {
        "colab": {
          "base_uri": "https://localhost:8080/",
          "height": 542
        },
        "id": "dNFw0wlnknXj",
        "outputId": "377549d3-9ce7-4d86-cc5e-e3a7014bfbb8"
      },
      "execution_count": null,
      "outputs": [
        {
          "output_type": "display_data",
          "data": {
            "text/html": [
              "<html>\n",
              "<head><meta charset=\"utf-8\" /></head>\n",
              "<body>\n",
              "    <div>            <script src=\"https://cdnjs.cloudflare.com/ajax/libs/mathjax/2.7.5/MathJax.js?config=TeX-AMS-MML_SVG\"></script><script type=\"text/javascript\">if (window.MathJax) {MathJax.Hub.Config({SVG: {font: \"STIX-Web\"}});}</script>                <script type=\"text/javascript\">window.PlotlyConfig = {MathJaxConfig: 'local'};</script>\n",
              "        <script src=\"https://cdn.plot.ly/plotly-2.8.3.min.js\"></script>                <div id=\"08593b29-607e-416a-8c1d-01a31de2dba6\" class=\"plotly-graph-div\" style=\"height:525px; width:100%;\"></div>            <script type=\"text/javascript\">                                    window.PLOTLYENV=window.PLOTLYENV || {};                                    if (document.getElementById(\"08593b29-607e-416a-8c1d-01a31de2dba6\")) {                    Plotly.newPlot(                        \"08593b29-607e-416a-8c1d-01a31de2dba6\",                        [{\"line\":{\"color\":\"blue\"},\"mode\":\"lines+markers\",\"name\":\"Nodes=20 for greedy equation1\",\"x\":[5,10,15,20,25,30,35,40,45,50,55,60,65,70,75,80,85,90,95,100],\"y\":[259.85,500.2448979591837,717.746835443038,890.25,950.179104477612,1006.4574468085107,1000.6666666666666,975.21,1000.48,991.77,998.5,1011.36,982.42,1008.97,982.88,1001.69,1000.3,975.47,979.64,1010.63],\"type\":\"scatter\",\"textposition\":\"bottom right\"},{\"mode\":\"lines+markers\",\"name\":\"Nodes=40 for greedy equation1\",\"x\":[5,10,15,20,25,30,35,40,45,50,55,60,65,70,75,80,85,90,95,100],\"y\":[243.85,499.09,748.31,996.58,1253.43,1480.8541666666667,1699.759493670886,1843.4647887323943,1933.8133333333333,1955.0119047619048,1978.642857142857,1987.38,1986.38,1982.46,1988.31,1985.84,1986.96,1978.43,1982.56,1968.83],\"type\":\"scatter\",\"textposition\":\"bottom right\"},{\"mode\":\"lines+markers\",\"name\":\"Nodes=60 for greedy equation1\",\"x\":[5,10,15,20,25,30,35,40,45,50,55,60,65,70,75,80,85,90,95,100],\"y\":[272.2,514.84,744.36,983.56,1262.76,1450.04,1718.04,1956.2916666666667,2253.4347826086955,2446.0,2639.9375,2836.8333333333335,2880.6363636363635,2921.0434782608695,2884.2916666666665,3042.88,2962.76,3026.16,2832.28,2992.68],\"type\":\"scatter\",\"textposition\":\"bottom right\"},{\"mode\":\"lines+markers\",\"name\":\"Nodes=80 for greedy equation1\",\"x\":[5,10,15,20,25,30,35,40,45,50,55,60,65,70,75,80,85,90,95,100],\"y\":[251.41,481.43,728.87,972.4,1225.13,1472.65,1707.33,2006.21,2246.24,2489.06,2759.85,2964.68,3197.226804123711,3436.7191011235955,3658.5333333333333,3803.472222222222,3819.3896103896104,3898.945945945946,3896.453608247423,4001.5894736842106],\"type\":\"scatter\",\"textposition\":\"bottom right\"},{\"line\":{\"color\":\"blue\"},\"mode\":\"lines\",\"name\":\"Nodes=20 for greedy equation2\",\"x\":[5,10,15,20,25,30,35,40,45,50,55,60,65,70,75,80,85,90,95,100],\"y\":[262.56,476.4347826086956,702.421052631579,863.0,999.0526315789474,966.6086956521739,993.16,972.08,970.6,1043.68,996.0,999.64,973.08,973.52,979.56,991.84,971.0,946.88,942.04,960.16],\"type\":\"scatter\",\"textposition\":\"bottom right\"},{\"mode\":\"lines\",\"name\":\"Nodes=40 for greedy equation2\",\"x\":[5,10,15,20,25,30,35,40,45,50,55,60,65,70,75,80,85,90,95,100],\"y\":[260.32,496.48,719.36,978.24,1253.36,1463.4347826086957,1653.0,1840.625,1957.2777777777778,1995.4761904761904,2051.04,1960.72,1984.12,1984.24,1967.64,2015.16,1986.36,1985.04,1948.72,1957.6],\"type\":\"scatter\",\"textposition\":\"bottom right\"},{\"mode\":\"lines\",\"name\":\"Nodes=60 for greedy equation2\",\"x\":[5,10,15,20,25,30,35,40,45,50,55,60,65,70,75,80,85,90,95,100],\"y\":[258.08,487.56,755.4,923.84,1273.76,1486.24,1740.68,1943.36,2222.8333333333335,2449.9565217391305,2697.1666666666665,2778.8,2894.4,2958.2727272727275,2885.6363636363635,2964.84,2954.4,3022.88,2959.24,3032.0],\"type\":\"scatter\",\"textposition\":\"bottom right\"},{\"line\":{\"color\":\"red\"},\"mode\":\"lines\",\"name\":\"Nodes=80 for greedy equation2\",\"x\":[5,10,15,20,25,30,35,40,45,50,55,60,65,70,75,80,85,90,95,100],\"y\":[258.6,488.12,737.92,1030.6,1253.16,1474.44,1724.52,1955.96,2245.0,2462.84,2747.16,3003.12,3185.7083333333335,3392.3478260869565,3679.5,3723.05,3915.8,3883.2105263157896,3942.2083333333335,3926.0],\"type\":\"scatter\",\"textposition\":\"bottom right\"},{\"line\":{\"color\":\"royalblue\",\"dash\":\"dot\",\"width\":3},\"name\":\"Nodes=20 for brute force\",\"x\":[5,10,15,20,25,30,35,40,45,50,55,60,65,70,75,80,85,90,95,100],\"y\":[0.0,43.1,94.1,105.7,116.4,156.5,204.8,214.7,173.1,227.1,195.0,277.4,225.6,274.9,237.6,271.7,257.5,226.7,222.8,248.5],\"type\":\"scatter\",\"textposition\":\"bottom right\"},{\"line\":{\"color\":\"firebrick\",\"dash\":\"dot\",\"width\":3},\"name\":\"Nodes=40 for brute force\",\"x\":[5,10,15,20,25,30,35,40,45,50,55,60,65,70,75,80,85,90,95,100],\"y\":[0.0,74.7,93.9,161.7,157.8,228.7,301.9,334.8,349.1,378.5,433.1,430.1,484.6,495.3,493.1,510.8,492.5,475.5,493.7,534.8],\"type\":\"scatter\",\"textposition\":\"bottom right\"},{\"line\":{\"color\":\"green\",\"dash\":\"dot\",\"width\":3},\"name\":\"Nodes=60 for brute force\",\"x\":[5,10,15,20,25,30,35,40,45,50,55,60,65,70,75,80,85,90,95,100],\"y\":[0.0,70.9,128.8,178.8,220.8,257.9,291.8,358.9,416.4,444.3,489.7,516.5,574.9,605.7,624.3,696.1,664.9,707.9,672.1,711.7],\"type\":\"scatter\",\"textposition\":\"bottom right\"},{\"line\":{\"color\":\"red\",\"dash\":\"dot\",\"width\":3},\"name\":\"Nodes=80 for brute force\",\"x\":[5,10,15,20,25,30,35,40,45,50,55,60,65,70,75,80,85,90,95,100],\"y\":[0.0,88.3,111.7,177.1,209.7,299.1,296.1,365.5,386.6,463.6,486.8,534.0,599.2,624.4,721.7,708.8,719.7,792.5,922.5,896.2],\"type\":\"scatter\",\"textposition\":\"bottom right\"}],                        {\"template\":{\"data\":{\"bar\":[{\"error_x\":{\"color\":\"#2a3f5f\"},\"error_y\":{\"color\":\"#2a3f5f\"},\"marker\":{\"line\":{\"color\":\"#E5ECF6\",\"width\":0.5},\"pattern\":{\"fillmode\":\"overlay\",\"size\":10,\"solidity\":0.2}},\"type\":\"bar\"}],\"barpolar\":[{\"marker\":{\"line\":{\"color\":\"#E5ECF6\",\"width\":0.5},\"pattern\":{\"fillmode\":\"overlay\",\"size\":10,\"solidity\":0.2}},\"type\":\"barpolar\"}],\"carpet\":[{\"aaxis\":{\"endlinecolor\":\"#2a3f5f\",\"gridcolor\":\"white\",\"linecolor\":\"white\",\"minorgridcolor\":\"white\",\"startlinecolor\":\"#2a3f5f\"},\"baxis\":{\"endlinecolor\":\"#2a3f5f\",\"gridcolor\":\"white\",\"linecolor\":\"white\",\"minorgridcolor\":\"white\",\"startlinecolor\":\"#2a3f5f\"},\"type\":\"carpet\"}],\"choropleth\":[{\"colorbar\":{\"outlinewidth\":0,\"ticks\":\"\"},\"type\":\"choropleth\"}],\"contour\":[{\"colorbar\":{\"outlinewidth\":0,\"ticks\":\"\"},\"colorscale\":[[0.0,\"#0d0887\"],[0.1111111111111111,\"#46039f\"],[0.2222222222222222,\"#7201a8\"],[0.3333333333333333,\"#9c179e\"],[0.4444444444444444,\"#bd3786\"],[0.5555555555555556,\"#d8576b\"],[0.6666666666666666,\"#ed7953\"],[0.7777777777777778,\"#fb9f3a\"],[0.8888888888888888,\"#fdca26\"],[1.0,\"#f0f921\"]],\"type\":\"contour\"}],\"contourcarpet\":[{\"colorbar\":{\"outlinewidth\":0,\"ticks\":\"\"},\"type\":\"contourcarpet\"}],\"heatmap\":[{\"colorbar\":{\"outlinewidth\":0,\"ticks\":\"\"},\"colorscale\":[[0.0,\"#0d0887\"],[0.1111111111111111,\"#46039f\"],[0.2222222222222222,\"#7201a8\"],[0.3333333333333333,\"#9c179e\"],[0.4444444444444444,\"#bd3786\"],[0.5555555555555556,\"#d8576b\"],[0.6666666666666666,\"#ed7953\"],[0.7777777777777778,\"#fb9f3a\"],[0.8888888888888888,\"#fdca26\"],[1.0,\"#f0f921\"]],\"type\":\"heatmap\"}],\"heatmapgl\":[{\"colorbar\":{\"outlinewidth\":0,\"ticks\":\"\"},\"colorscale\":[[0.0,\"#0d0887\"],[0.1111111111111111,\"#46039f\"],[0.2222222222222222,\"#7201a8\"],[0.3333333333333333,\"#9c179e\"],[0.4444444444444444,\"#bd3786\"],[0.5555555555555556,\"#d8576b\"],[0.6666666666666666,\"#ed7953\"],[0.7777777777777778,\"#fb9f3a\"],[0.8888888888888888,\"#fdca26\"],[1.0,\"#f0f921\"]],\"type\":\"heatmapgl\"}],\"histogram\":[{\"marker\":{\"pattern\":{\"fillmode\":\"overlay\",\"size\":10,\"solidity\":0.2}},\"type\":\"histogram\"}],\"histogram2d\":[{\"colorbar\":{\"outlinewidth\":0,\"ticks\":\"\"},\"colorscale\":[[0.0,\"#0d0887\"],[0.1111111111111111,\"#46039f\"],[0.2222222222222222,\"#7201a8\"],[0.3333333333333333,\"#9c179e\"],[0.4444444444444444,\"#bd3786\"],[0.5555555555555556,\"#d8576b\"],[0.6666666666666666,\"#ed7953\"],[0.7777777777777778,\"#fb9f3a\"],[0.8888888888888888,\"#fdca26\"],[1.0,\"#f0f921\"]],\"type\":\"histogram2d\"}],\"histogram2dcontour\":[{\"colorbar\":{\"outlinewidth\":0,\"ticks\":\"\"},\"colorscale\":[[0.0,\"#0d0887\"],[0.1111111111111111,\"#46039f\"],[0.2222222222222222,\"#7201a8\"],[0.3333333333333333,\"#9c179e\"],[0.4444444444444444,\"#bd3786\"],[0.5555555555555556,\"#d8576b\"],[0.6666666666666666,\"#ed7953\"],[0.7777777777777778,\"#fb9f3a\"],[0.8888888888888888,\"#fdca26\"],[1.0,\"#f0f921\"]],\"type\":\"histogram2dcontour\"}],\"mesh3d\":[{\"colorbar\":{\"outlinewidth\":0,\"ticks\":\"\"},\"type\":\"mesh3d\"}],\"parcoords\":[{\"line\":{\"colorbar\":{\"outlinewidth\":0,\"ticks\":\"\"}},\"type\":\"parcoords\"}],\"pie\":[{\"automargin\":true,\"type\":\"pie\"}],\"scatter\":[{\"marker\":{\"colorbar\":{\"outlinewidth\":0,\"ticks\":\"\"}},\"type\":\"scatter\"}],\"scatter3d\":[{\"line\":{\"colorbar\":{\"outlinewidth\":0,\"ticks\":\"\"}},\"marker\":{\"colorbar\":{\"outlinewidth\":0,\"ticks\":\"\"}},\"type\":\"scatter3d\"}],\"scattercarpet\":[{\"marker\":{\"colorbar\":{\"outlinewidth\":0,\"ticks\":\"\"}},\"type\":\"scattercarpet\"}],\"scattergeo\":[{\"marker\":{\"colorbar\":{\"outlinewidth\":0,\"ticks\":\"\"}},\"type\":\"scattergeo\"}],\"scattergl\":[{\"marker\":{\"colorbar\":{\"outlinewidth\":0,\"ticks\":\"\"}},\"type\":\"scattergl\"}],\"scattermapbox\":[{\"marker\":{\"colorbar\":{\"outlinewidth\":0,\"ticks\":\"\"}},\"type\":\"scattermapbox\"}],\"scatterpolar\":[{\"marker\":{\"colorbar\":{\"outlinewidth\":0,\"ticks\":\"\"}},\"type\":\"scatterpolar\"}],\"scatterpolargl\":[{\"marker\":{\"colorbar\":{\"outlinewidth\":0,\"ticks\":\"\"}},\"type\":\"scatterpolargl\"}],\"scatterternary\":[{\"marker\":{\"colorbar\":{\"outlinewidth\":0,\"ticks\":\"\"}},\"type\":\"scatterternary\"}],\"surface\":[{\"colorbar\":{\"outlinewidth\":0,\"ticks\":\"\"},\"colorscale\":[[0.0,\"#0d0887\"],[0.1111111111111111,\"#46039f\"],[0.2222222222222222,\"#7201a8\"],[0.3333333333333333,\"#9c179e\"],[0.4444444444444444,\"#bd3786\"],[0.5555555555555556,\"#d8576b\"],[0.6666666666666666,\"#ed7953\"],[0.7777777777777778,\"#fb9f3a\"],[0.8888888888888888,\"#fdca26\"],[1.0,\"#f0f921\"]],\"type\":\"surface\"}],\"table\":[{\"cells\":{\"fill\":{\"color\":\"#EBF0F8\"},\"line\":{\"color\":\"white\"}},\"header\":{\"fill\":{\"color\":\"#C8D4E3\"},\"line\":{\"color\":\"white\"}},\"type\":\"table\"}]},\"layout\":{\"annotationdefaults\":{\"arrowcolor\":\"#2a3f5f\",\"arrowhead\":0,\"arrowwidth\":1},\"autotypenumbers\":\"strict\",\"coloraxis\":{\"colorbar\":{\"outlinewidth\":0,\"ticks\":\"\"}},\"colorscale\":{\"diverging\":[[0,\"#8e0152\"],[0.1,\"#c51b7d\"],[0.2,\"#de77ae\"],[0.3,\"#f1b6da\"],[0.4,\"#fde0ef\"],[0.5,\"#f7f7f7\"],[0.6,\"#e6f5d0\"],[0.7,\"#b8e186\"],[0.8,\"#7fbc41\"],[0.9,\"#4d9221\"],[1,\"#276419\"]],\"sequential\":[[0.0,\"#0d0887\"],[0.1111111111111111,\"#46039f\"],[0.2222222222222222,\"#7201a8\"],[0.3333333333333333,\"#9c179e\"],[0.4444444444444444,\"#bd3786\"],[0.5555555555555556,\"#d8576b\"],[0.6666666666666666,\"#ed7953\"],[0.7777777777777778,\"#fb9f3a\"],[0.8888888888888888,\"#fdca26\"],[1.0,\"#f0f921\"]],\"sequentialminus\":[[0.0,\"#0d0887\"],[0.1111111111111111,\"#46039f\"],[0.2222222222222222,\"#7201a8\"],[0.3333333333333333,\"#9c179e\"],[0.4444444444444444,\"#bd3786\"],[0.5555555555555556,\"#d8576b\"],[0.6666666666666666,\"#ed7953\"],[0.7777777777777778,\"#fb9f3a\"],[0.8888888888888888,\"#fdca26\"],[1.0,\"#f0f921\"]]},\"colorway\":[\"#636efa\",\"#EF553B\",\"#00cc96\",\"#ab63fa\",\"#FFA15A\",\"#19d3f3\",\"#FF6692\",\"#B6E880\",\"#FF97FF\",\"#FECB52\"],\"font\":{\"color\":\"#2a3f5f\"},\"geo\":{\"bgcolor\":\"white\",\"lakecolor\":\"white\",\"landcolor\":\"#E5ECF6\",\"showlakes\":true,\"showland\":true,\"subunitcolor\":\"white\"},\"hoverlabel\":{\"align\":\"left\"},\"hovermode\":\"closest\",\"mapbox\":{\"style\":\"light\"},\"paper_bgcolor\":\"white\",\"plot_bgcolor\":\"#E5ECF6\",\"polar\":{\"angularaxis\":{\"gridcolor\":\"white\",\"linecolor\":\"white\",\"ticks\":\"\"},\"bgcolor\":\"#E5ECF6\",\"radialaxis\":{\"gridcolor\":\"white\",\"linecolor\":\"white\",\"ticks\":\"\"}},\"scene\":{\"xaxis\":{\"backgroundcolor\":\"#E5ECF6\",\"gridcolor\":\"white\",\"gridwidth\":2,\"linecolor\":\"white\",\"showbackground\":true,\"ticks\":\"\",\"zerolinecolor\":\"white\"},\"yaxis\":{\"backgroundcolor\":\"#E5ECF6\",\"gridcolor\":\"white\",\"gridwidth\":2,\"linecolor\":\"white\",\"showbackground\":true,\"ticks\":\"\",\"zerolinecolor\":\"white\"},\"zaxis\":{\"backgroundcolor\":\"#E5ECF6\",\"gridcolor\":\"white\",\"gridwidth\":2,\"linecolor\":\"white\",\"showbackground\":true,\"ticks\":\"\",\"zerolinecolor\":\"white\"}},\"shapedefaults\":{\"line\":{\"color\":\"#2a3f5f\"}},\"ternary\":{\"aaxis\":{\"gridcolor\":\"white\",\"linecolor\":\"white\",\"ticks\":\"\"},\"baxis\":{\"gridcolor\":\"white\",\"linecolor\":\"white\",\"ticks\":\"\"},\"bgcolor\":\"#E5ECF6\",\"caxis\":{\"gridcolor\":\"white\",\"linecolor\":\"white\",\"ticks\":\"\"}},\"title\":{\"x\":0.05},\"xaxis\":{\"automargin\":true,\"gridcolor\":\"white\",\"linecolor\":\"white\",\"ticks\":\"\",\"title\":{\"standoff\":15},\"zerolinecolor\":\"white\",\"zerolinewidth\":2},\"yaxis\":{\"automargin\":true,\"gridcolor\":\"white\",\"linecolor\":\"white\",\"ticks\":\"\",\"title\":{\"standoff\":15},\"zerolinecolor\":\"white\",\"zerolinewidth\":2}}},\"title\":{\"text\":\"Total Power Consumption v/s Variable Gateways with Constant Nodes\"},\"xaxis\":{\"title\":{\"text\":\"Variable Gateways\"}},\"yaxis\":{\"title\":{\"text\":\"Total Power Consumption\"}}},                        {\"responsive\": true}                    ).then(function(){\n",
              "                            \n",
              "var gd = document.getElementById('08593b29-607e-416a-8c1d-01a31de2dba6');\n",
              "var x = new MutationObserver(function (mutations, observer) {{\n",
              "        var display = window.getComputedStyle(gd).display;\n",
              "        if (!display || display === 'none') {{\n",
              "            console.log([gd, 'removed!']);\n",
              "            Plotly.purge(gd);\n",
              "            observer.disconnect();\n",
              "        }}\n",
              "}});\n",
              "\n",
              "// Listen for the removal of the full notebook cells\n",
              "var notebookContainer = gd.closest('#notebook-container');\n",
              "if (notebookContainer) {{\n",
              "    x.observe(notebookContainer, {childList: true});\n",
              "}}\n",
              "\n",
              "// Listen for the clearing of the current output cell\n",
              "var outputEl = gd.closest('.output');\n",
              "if (outputEl) {{\n",
              "    x.observe(outputEl, {childList: true});\n",
              "}}\n",
              "\n",
              "                        })                };                            </script>        </div>\n",
              "</body>\n",
              "</html>"
            ]
          },
          "metadata": {}
        }
      ]
    },
    {
      "cell_type": "code",
      "source": [
        "#Graph3: Total Power Consumptions v/s variable Nodes with constant data in all nodes and constant Gateways i,e 20\n",
        "x = [x for x in range(5,101,5)]\n",
        "y1 = [100.0, 200.0, 300.0, 400.0, 500.0, 600.0, 700.0, 792.4166666666666, 870.8936170212766, 899.7560975609756, 944.6, 949.0864197530864, 970.6236559139785, 994.8350515463917, 985.46, 995.03, 977.37, 981.14, 1000.84, 999.25]\n",
        "z1 = [200.0, 400.0, 600.0, 798.5555555555555, 876.7619047619048, 949.2588235294118, 975.7676767676768, 994.0, 999.13, 994.14, 985.8, 1010.82, 993.82, 980.88, 981.95, 982.88, 975.34, 969.34, 996.17, 975.13]\n",
        "m1 = [300.0, 600.0, 871.3428571428572, 961.9866666666667, 998.12, 976.86, 987.38, 995.91, 977.6, 990.83, 1003.81, 971.41, 993.08, 1009.14, 983.68, 988.86, 979.83, 1003.34, 1008.04, 990.11]\n",
        "n1 = [400.0, 800.0, 969.3513513513514, 987.4747474747475, 1002.4, 1011.47, 1000.74, 980.03, 1007.35, 984.4, 986.45, 996.67, 992.12, 995.13, 1003.4, 985.64, 969.47, 997.18, 985.72, 983.31]\n",
        "\n",
        "\n"
      ],
      "metadata": {
        "id": "NUzgYzsPh4oB"
      },
      "execution_count": null,
      "outputs": []
    },
    {
      "cell_type": "code",
      "source": [
        "\n",
        "y2 = [100.0, 200.0, 300.0, 400.0, 500.0, 600.0, 700.0, 794.1904761904761, 878.1904761904761, 960.4444444444445, 1002.45, 976.3636363636364, 960.5652173913044, 989.52, 983.16, 972.6, 1025.96, 999.56, 966.64, 1039.52]\n",
        "z2 = [200.0, 400.0, 600.0, 790.6363636363636, 927.4, 952.0, 1028.125, 999.4, 986.56, 972.12, 1019.0, 999.6, 992.64, 1004.56, 957.32, 987.0, 1027.16, 1015.88, 1011.12, 1030.12]\n",
        "m2 = [300.0, 600.0, 885.3333333333334, 912.2222222222222, 1005.36, 996.68, 982.04, 1001.72, 973.24, 980.56, 1023.76, 1004.84, 987.04, 1074.52, 1009.36, 974.24, 955.12, 949.72, 987.36, 978.0]\n",
        "n2 = [400.0, 800.0, 947.4444444444445, 973.96, 977.08, 1008.24, 977.8, 998.28, 977.24, 983.2, 975.76, 984.48, 1017.4, 966.92, 1032.84, 1007.16, 1036.72, 1010.16, 995.28, 989.28]"
      ],
      "metadata": {
        "id": "BP--rpzHra03"
      },
      "execution_count": null,
      "outputs": []
    },
    {
      "cell_type": "code",
      "source": [
        "y3 = [63.1, 113.3, 173.5, 164.5, 172.9, 189.3, 231.3, 200.0, 216.4, 245.2, 203.7, 206.4, 207.2, 216.1, 206.5, 242.2, 165.8, 227.1, 184.0, 210.6]\n",
        "z3 = [78.2, 142.1, 226.8, 300.0, 382.4, 402.7, 410.3, 393.8, 426.4, 461.1, 416.2, 450.8, 471.5, 470.4, 422.9, 476.9, 479.3, 470.3, 440.7, 434.5]\n",
        "m3 = [80.0, 160.0, 238.0, 308.0, 391.7, 455.0, 537.0, 564.0, 675.7, 602.2, 686.8, 701.4, 653.9, 684.2, 715.8, 698.6, 732.7, 760.0, 733.1, 694.0]\n",
        "n3 = [80.0, 160.0, 240.0, 320.0, 400.0, 480.0, 553.7, 637.2, 716.1, 754.3, 798.6, 846.6, 830.7, 910.2, 954.7, 977.4, 978.5, 951.9, 983.7, 936.0]\n"
      ],
      "metadata": {
        "id": "MQ_AoL__rble"
      },
      "execution_count": null,
      "outputs": []
    },
    {
      "cell_type": "code",
      "source": [
        "import plotly.express as px\n",
        "import plotly.graph_objects as go\n",
        "from plotly.graph_objs.layout import Title\n",
        "import pandas as pd\n",
        "\n",
        "\n",
        "fig = go.Figure()\n",
        "fig.add_trace(\n",
        "    go.Scatter(x=x, y=y1, name=\"Data=20 for greedy equation1\", line=dict(color=\"blue\"), mode=\"lines+markers\")   \n",
        ")\n",
        "fig.add_trace(\n",
        "    go.Scatter(x=x, y=z1, name=\"Data=40 for greedy equation1\", mode='lines+markers')\n",
        ")\n",
        "fig.add_trace(\n",
        "    go.Scatter(x=x, y=m1, name=\"Data=60 for greedy equation1\", mode=\"lines+markers\")\n",
        ")\n",
        "fig.add_trace(\n",
        "    go.Scatter(x=x, y=n1, name=\"Data=80 for greedy equation1\", mode=\"lines+markers\")\n",
        ")\n",
        "\n",
        "fig.add_trace(\n",
        "    go.Scatter(x=x, y=y2, name=\"Data=20 for greedy equation2\", line=dict(color=\"blue\"), mode=\"lines\")   \n",
        ")\n",
        "fig.add_trace(\n",
        "    go.Scatter(x=x, y=z2, name=\"Data=40 for greedy equation2\", mode='lines')\n",
        ")\n",
        "fig.add_trace(\n",
        "    go.Scatter(x=x, y=m2, name=\"Data=60 for greedy equation2\", mode=\"lines\")\n",
        ")\n",
        "fig.add_trace(\n",
        "    go.Scatter(x=x, y=n2, name=\"Data=80 for greedy equation2\", line=dict(color=\"red\"),mode=\"lines\")\n",
        ")\n",
        "\n",
        "fig.add_trace(\n",
        "    go.Scatter(x=x, y=y3, name=\"Data=20 for brute force\", line=dict(color='royalblue', width=3, dash='dot'))   \n",
        ")\n",
        "fig.add_trace(\n",
        "    go.Scatter(x=x, y=z3, name=\"Data=40 for brute force\", line=dict(color='firebrick', width=3, dash='dot'))\n",
        ")\n",
        "fig.add_trace(\n",
        "    go.Scatter(x=x, y=m3, name=\"Data=60 for brute force\", line=dict(color='green', width=3, dash='dot'))\n",
        ")\n",
        "fig.add_trace(\n",
        "    go.Scatter(x=x, y=n3, name=\"Data=80 for brute force\", line=dict(color='red', width=3, dash='dot'))\n",
        ")\n",
        "\n",
        "fig.update_layout(\n",
        "    title = \"Total Power Consumption v/s Variable Nodes and data is constant with Constant Gateways i,e 20\",\n",
        "    xaxis_title = \"Variable Nodes\",\n",
        "    yaxis_title = \"Total Power Consumption\",\n",
        ")\n",
        "fig.update_traces(textposition = \"bottom right\")"
      ],
      "metadata": {
        "colab": {
          "base_uri": "https://localhost:8080/",
          "height": 542
        },
        "id": "tpTkMIpikps0",
        "outputId": "b24bae18-dc34-4bb9-ea10-f7b42bb6ed99"
      },
      "execution_count": null,
      "outputs": [
        {
          "output_type": "display_data",
          "data": {
            "text/html": [
              "<html>\n",
              "<head><meta charset=\"utf-8\" /></head>\n",
              "<body>\n",
              "    <div>            <script src=\"https://cdnjs.cloudflare.com/ajax/libs/mathjax/2.7.5/MathJax.js?config=TeX-AMS-MML_SVG\"></script><script type=\"text/javascript\">if (window.MathJax) {MathJax.Hub.Config({SVG: {font: \"STIX-Web\"}});}</script>                <script type=\"text/javascript\">window.PlotlyConfig = {MathJaxConfig: 'local'};</script>\n",
              "        <script src=\"https://cdn.plot.ly/plotly-2.8.3.min.js\"></script>                <div id=\"dbdbef45-3fdf-43ad-b45a-885480bf4e72\" class=\"plotly-graph-div\" style=\"height:525px; width:100%;\"></div>            <script type=\"text/javascript\">                                    window.PLOTLYENV=window.PLOTLYENV || {};                                    if (document.getElementById(\"dbdbef45-3fdf-43ad-b45a-885480bf4e72\")) {                    Plotly.newPlot(                        \"dbdbef45-3fdf-43ad-b45a-885480bf4e72\",                        [{\"line\":{\"color\":\"blue\"},\"mode\":\"lines+markers\",\"name\":\"Data=20 for greedy equation1\",\"x\":[5,10,15,20,25,30,35,40,45,50,55,60,65,70,75,80,85,90,95,100],\"y\":[100.0,200.0,300.0,400.0,500.0,600.0,700.0,792.4166666666666,870.8936170212766,899.7560975609756,944.6,949.0864197530864,970.6236559139785,994.8350515463917,985.46,995.03,977.37,981.14,1000.84,999.25],\"type\":\"scatter\",\"textposition\":\"bottom right\"},{\"mode\":\"lines+markers\",\"name\":\"Data=40 for greedy equation1\",\"x\":[5,10,15,20,25,30,35,40,45,50,55,60,65,70,75,80,85,90,95,100],\"y\":[200.0,400.0,600.0,798.5555555555555,876.7619047619048,949.2588235294118,975.7676767676768,994.0,999.13,994.14,985.8,1010.82,993.82,980.88,981.95,982.88,975.34,969.34,996.17,975.13],\"type\":\"scatter\",\"textposition\":\"bottom right\"},{\"mode\":\"lines+markers\",\"name\":\"Data=60 for greedy equation1\",\"x\":[5,10,15,20,25,30,35,40,45,50,55,60,65,70,75,80,85,90,95,100],\"y\":[300.0,600.0,871.3428571428572,961.9866666666667,998.12,976.86,987.38,995.91,977.6,990.83,1003.81,971.41,993.08,1009.14,983.68,988.86,979.83,1003.34,1008.04,990.11],\"type\":\"scatter\",\"textposition\":\"bottom right\"},{\"mode\":\"lines+markers\",\"name\":\"Data=80 for greedy equation1\",\"x\":[5,10,15,20,25,30,35,40,45,50,55,60,65,70,75,80,85,90,95,100],\"y\":[400.0,800.0,969.3513513513514,987.4747474747475,1002.4,1011.47,1000.74,980.03,1007.35,984.4,986.45,996.67,992.12,995.13,1003.4,985.64,969.47,997.18,985.72,983.31],\"type\":\"scatter\",\"textposition\":\"bottom right\"},{\"line\":{\"color\":\"blue\"},\"mode\":\"lines\",\"name\":\"Data=20 for greedy equation2\",\"x\":[5,10,15,20,25,30,35,40,45,50,55,60,65,70,75,80,85,90,95,100],\"y\":[100.0,200.0,300.0,400.0,500.0,600.0,700.0,794.1904761904761,878.1904761904761,960.4444444444445,1002.45,976.3636363636364,960.5652173913044,989.52,983.16,972.6,1025.96,999.56,966.64,1039.52],\"type\":\"scatter\",\"textposition\":\"bottom right\"},{\"mode\":\"lines\",\"name\":\"Data=40 for greedy equation2\",\"x\":[5,10,15,20,25,30,35,40,45,50,55,60,65,70,75,80,85,90,95,100],\"y\":[200.0,400.0,600.0,790.6363636363636,927.4,952.0,1028.125,999.4,986.56,972.12,1019.0,999.6,992.64,1004.56,957.32,987.0,1027.16,1015.88,1011.12,1030.12],\"type\":\"scatter\",\"textposition\":\"bottom right\"},{\"mode\":\"lines\",\"name\":\"Data=60 for greedy equation2\",\"x\":[5,10,15,20,25,30,35,40,45,50,55,60,65,70,75,80,85,90,95,100],\"y\":[300.0,600.0,885.3333333333334,912.2222222222222,1005.36,996.68,982.04,1001.72,973.24,980.56,1023.76,1004.84,987.04,1074.52,1009.36,974.24,955.12,949.72,987.36,978.0],\"type\":\"scatter\",\"textposition\":\"bottom right\"},{\"line\":{\"color\":\"red\"},\"mode\":\"lines\",\"name\":\"Data=80 for greedy equation2\",\"x\":[5,10,15,20,25,30,35,40,45,50,55,60,65,70,75,80,85,90,95,100],\"y\":[400.0,800.0,947.4444444444445,973.96,977.08,1008.24,977.8,998.28,977.24,983.2,975.76,984.48,1017.4,966.92,1032.84,1007.16,1036.72,1010.16,995.28,989.28],\"type\":\"scatter\",\"textposition\":\"bottom right\"},{\"line\":{\"color\":\"royalblue\",\"dash\":\"dot\",\"width\":3},\"name\":\"Data=20 for brute force\",\"x\":[5,10,15,20,25,30,35,40,45,50,55,60,65,70,75,80,85,90,95,100],\"y\":[63.1,113.3,173.5,164.5,172.9,189.3,231.3,200.0,216.4,245.2,203.7,206.4,207.2,216.1,206.5,242.2,165.8,227.1,184.0,210.6],\"type\":\"scatter\",\"textposition\":\"bottom right\"},{\"line\":{\"color\":\"firebrick\",\"dash\":\"dot\",\"width\":3},\"name\":\"Data=40 for brute force\",\"x\":[5,10,15,20,25,30,35,40,45,50,55,60,65,70,75,80,85,90,95,100],\"y\":[78.2,142.1,226.8,300.0,382.4,402.7,410.3,393.8,426.4,461.1,416.2,450.8,471.5,470.4,422.9,476.9,479.3,470.3,440.7,434.5],\"type\":\"scatter\",\"textposition\":\"bottom right\"},{\"line\":{\"color\":\"green\",\"dash\":\"dot\",\"width\":3},\"name\":\"Data=60 for brute force\",\"x\":[5,10,15,20,25,30,35,40,45,50,55,60,65,70,75,80,85,90,95,100],\"y\":[80.0,160.0,238.0,308.0,391.7,455.0,537.0,564.0,675.7,602.2,686.8,701.4,653.9,684.2,715.8,698.6,732.7,760.0,733.1,694.0],\"type\":\"scatter\",\"textposition\":\"bottom right\"},{\"line\":{\"color\":\"red\",\"dash\":\"dot\",\"width\":3},\"name\":\"Data=80 for brute force\",\"x\":[5,10,15,20,25,30,35,40,45,50,55,60,65,70,75,80,85,90,95,100],\"y\":[80.0,160.0,240.0,320.0,400.0,480.0,553.7,637.2,716.1,754.3,798.6,846.6,830.7,910.2,954.7,977.4,978.5,951.9,983.7,936.0],\"type\":\"scatter\",\"textposition\":\"bottom right\"}],                        {\"template\":{\"data\":{\"bar\":[{\"error_x\":{\"color\":\"#2a3f5f\"},\"error_y\":{\"color\":\"#2a3f5f\"},\"marker\":{\"line\":{\"color\":\"#E5ECF6\",\"width\":0.5},\"pattern\":{\"fillmode\":\"overlay\",\"size\":10,\"solidity\":0.2}},\"type\":\"bar\"}],\"barpolar\":[{\"marker\":{\"line\":{\"color\":\"#E5ECF6\",\"width\":0.5},\"pattern\":{\"fillmode\":\"overlay\",\"size\":10,\"solidity\":0.2}},\"type\":\"barpolar\"}],\"carpet\":[{\"aaxis\":{\"endlinecolor\":\"#2a3f5f\",\"gridcolor\":\"white\",\"linecolor\":\"white\",\"minorgridcolor\":\"white\",\"startlinecolor\":\"#2a3f5f\"},\"baxis\":{\"endlinecolor\":\"#2a3f5f\",\"gridcolor\":\"white\",\"linecolor\":\"white\",\"minorgridcolor\":\"white\",\"startlinecolor\":\"#2a3f5f\"},\"type\":\"carpet\"}],\"choropleth\":[{\"colorbar\":{\"outlinewidth\":0,\"ticks\":\"\"},\"type\":\"choropleth\"}],\"contour\":[{\"colorbar\":{\"outlinewidth\":0,\"ticks\":\"\"},\"colorscale\":[[0.0,\"#0d0887\"],[0.1111111111111111,\"#46039f\"],[0.2222222222222222,\"#7201a8\"],[0.3333333333333333,\"#9c179e\"],[0.4444444444444444,\"#bd3786\"],[0.5555555555555556,\"#d8576b\"],[0.6666666666666666,\"#ed7953\"],[0.7777777777777778,\"#fb9f3a\"],[0.8888888888888888,\"#fdca26\"],[1.0,\"#f0f921\"]],\"type\":\"contour\"}],\"contourcarpet\":[{\"colorbar\":{\"outlinewidth\":0,\"ticks\":\"\"},\"type\":\"contourcarpet\"}],\"heatmap\":[{\"colorbar\":{\"outlinewidth\":0,\"ticks\":\"\"},\"colorscale\":[[0.0,\"#0d0887\"],[0.1111111111111111,\"#46039f\"],[0.2222222222222222,\"#7201a8\"],[0.3333333333333333,\"#9c179e\"],[0.4444444444444444,\"#bd3786\"],[0.5555555555555556,\"#d8576b\"],[0.6666666666666666,\"#ed7953\"],[0.7777777777777778,\"#fb9f3a\"],[0.8888888888888888,\"#fdca26\"],[1.0,\"#f0f921\"]],\"type\":\"heatmap\"}],\"heatmapgl\":[{\"colorbar\":{\"outlinewidth\":0,\"ticks\":\"\"},\"colorscale\":[[0.0,\"#0d0887\"],[0.1111111111111111,\"#46039f\"],[0.2222222222222222,\"#7201a8\"],[0.3333333333333333,\"#9c179e\"],[0.4444444444444444,\"#bd3786\"],[0.5555555555555556,\"#d8576b\"],[0.6666666666666666,\"#ed7953\"],[0.7777777777777778,\"#fb9f3a\"],[0.8888888888888888,\"#fdca26\"],[1.0,\"#f0f921\"]],\"type\":\"heatmapgl\"}],\"histogram\":[{\"marker\":{\"pattern\":{\"fillmode\":\"overlay\",\"size\":10,\"solidity\":0.2}},\"type\":\"histogram\"}],\"histogram2d\":[{\"colorbar\":{\"outlinewidth\":0,\"ticks\":\"\"},\"colorscale\":[[0.0,\"#0d0887\"],[0.1111111111111111,\"#46039f\"],[0.2222222222222222,\"#7201a8\"],[0.3333333333333333,\"#9c179e\"],[0.4444444444444444,\"#bd3786\"],[0.5555555555555556,\"#d8576b\"],[0.6666666666666666,\"#ed7953\"],[0.7777777777777778,\"#fb9f3a\"],[0.8888888888888888,\"#fdca26\"],[1.0,\"#f0f921\"]],\"type\":\"histogram2d\"}],\"histogram2dcontour\":[{\"colorbar\":{\"outlinewidth\":0,\"ticks\":\"\"},\"colorscale\":[[0.0,\"#0d0887\"],[0.1111111111111111,\"#46039f\"],[0.2222222222222222,\"#7201a8\"],[0.3333333333333333,\"#9c179e\"],[0.4444444444444444,\"#bd3786\"],[0.5555555555555556,\"#d8576b\"],[0.6666666666666666,\"#ed7953\"],[0.7777777777777778,\"#fb9f3a\"],[0.8888888888888888,\"#fdca26\"],[1.0,\"#f0f921\"]],\"type\":\"histogram2dcontour\"}],\"mesh3d\":[{\"colorbar\":{\"outlinewidth\":0,\"ticks\":\"\"},\"type\":\"mesh3d\"}],\"parcoords\":[{\"line\":{\"colorbar\":{\"outlinewidth\":0,\"ticks\":\"\"}},\"type\":\"parcoords\"}],\"pie\":[{\"automargin\":true,\"type\":\"pie\"}],\"scatter\":[{\"marker\":{\"colorbar\":{\"outlinewidth\":0,\"ticks\":\"\"}},\"type\":\"scatter\"}],\"scatter3d\":[{\"line\":{\"colorbar\":{\"outlinewidth\":0,\"ticks\":\"\"}},\"marker\":{\"colorbar\":{\"outlinewidth\":0,\"ticks\":\"\"}},\"type\":\"scatter3d\"}],\"scattercarpet\":[{\"marker\":{\"colorbar\":{\"outlinewidth\":0,\"ticks\":\"\"}},\"type\":\"scattercarpet\"}],\"scattergeo\":[{\"marker\":{\"colorbar\":{\"outlinewidth\":0,\"ticks\":\"\"}},\"type\":\"scattergeo\"}],\"scattergl\":[{\"marker\":{\"colorbar\":{\"outlinewidth\":0,\"ticks\":\"\"}},\"type\":\"scattergl\"}],\"scattermapbox\":[{\"marker\":{\"colorbar\":{\"outlinewidth\":0,\"ticks\":\"\"}},\"type\":\"scattermapbox\"}],\"scatterpolar\":[{\"marker\":{\"colorbar\":{\"outlinewidth\":0,\"ticks\":\"\"}},\"type\":\"scatterpolar\"}],\"scatterpolargl\":[{\"marker\":{\"colorbar\":{\"outlinewidth\":0,\"ticks\":\"\"}},\"type\":\"scatterpolargl\"}],\"scatterternary\":[{\"marker\":{\"colorbar\":{\"outlinewidth\":0,\"ticks\":\"\"}},\"type\":\"scatterternary\"}],\"surface\":[{\"colorbar\":{\"outlinewidth\":0,\"ticks\":\"\"},\"colorscale\":[[0.0,\"#0d0887\"],[0.1111111111111111,\"#46039f\"],[0.2222222222222222,\"#7201a8\"],[0.3333333333333333,\"#9c179e\"],[0.4444444444444444,\"#bd3786\"],[0.5555555555555556,\"#d8576b\"],[0.6666666666666666,\"#ed7953\"],[0.7777777777777778,\"#fb9f3a\"],[0.8888888888888888,\"#fdca26\"],[1.0,\"#f0f921\"]],\"type\":\"surface\"}],\"table\":[{\"cells\":{\"fill\":{\"color\":\"#EBF0F8\"},\"line\":{\"color\":\"white\"}},\"header\":{\"fill\":{\"color\":\"#C8D4E3\"},\"line\":{\"color\":\"white\"}},\"type\":\"table\"}]},\"layout\":{\"annotationdefaults\":{\"arrowcolor\":\"#2a3f5f\",\"arrowhead\":0,\"arrowwidth\":1},\"autotypenumbers\":\"strict\",\"coloraxis\":{\"colorbar\":{\"outlinewidth\":0,\"ticks\":\"\"}},\"colorscale\":{\"diverging\":[[0,\"#8e0152\"],[0.1,\"#c51b7d\"],[0.2,\"#de77ae\"],[0.3,\"#f1b6da\"],[0.4,\"#fde0ef\"],[0.5,\"#f7f7f7\"],[0.6,\"#e6f5d0\"],[0.7,\"#b8e186\"],[0.8,\"#7fbc41\"],[0.9,\"#4d9221\"],[1,\"#276419\"]],\"sequential\":[[0.0,\"#0d0887\"],[0.1111111111111111,\"#46039f\"],[0.2222222222222222,\"#7201a8\"],[0.3333333333333333,\"#9c179e\"],[0.4444444444444444,\"#bd3786\"],[0.5555555555555556,\"#d8576b\"],[0.6666666666666666,\"#ed7953\"],[0.7777777777777778,\"#fb9f3a\"],[0.8888888888888888,\"#fdca26\"],[1.0,\"#f0f921\"]],\"sequentialminus\":[[0.0,\"#0d0887\"],[0.1111111111111111,\"#46039f\"],[0.2222222222222222,\"#7201a8\"],[0.3333333333333333,\"#9c179e\"],[0.4444444444444444,\"#bd3786\"],[0.5555555555555556,\"#d8576b\"],[0.6666666666666666,\"#ed7953\"],[0.7777777777777778,\"#fb9f3a\"],[0.8888888888888888,\"#fdca26\"],[1.0,\"#f0f921\"]]},\"colorway\":[\"#636efa\",\"#EF553B\",\"#00cc96\",\"#ab63fa\",\"#FFA15A\",\"#19d3f3\",\"#FF6692\",\"#B6E880\",\"#FF97FF\",\"#FECB52\"],\"font\":{\"color\":\"#2a3f5f\"},\"geo\":{\"bgcolor\":\"white\",\"lakecolor\":\"white\",\"landcolor\":\"#E5ECF6\",\"showlakes\":true,\"showland\":true,\"subunitcolor\":\"white\"},\"hoverlabel\":{\"align\":\"left\"},\"hovermode\":\"closest\",\"mapbox\":{\"style\":\"light\"},\"paper_bgcolor\":\"white\",\"plot_bgcolor\":\"#E5ECF6\",\"polar\":{\"angularaxis\":{\"gridcolor\":\"white\",\"linecolor\":\"white\",\"ticks\":\"\"},\"bgcolor\":\"#E5ECF6\",\"radialaxis\":{\"gridcolor\":\"white\",\"linecolor\":\"white\",\"ticks\":\"\"}},\"scene\":{\"xaxis\":{\"backgroundcolor\":\"#E5ECF6\",\"gridcolor\":\"white\",\"gridwidth\":2,\"linecolor\":\"white\",\"showbackground\":true,\"ticks\":\"\",\"zerolinecolor\":\"white\"},\"yaxis\":{\"backgroundcolor\":\"#E5ECF6\",\"gridcolor\":\"white\",\"gridwidth\":2,\"linecolor\":\"white\",\"showbackground\":true,\"ticks\":\"\",\"zerolinecolor\":\"white\"},\"zaxis\":{\"backgroundcolor\":\"#E5ECF6\",\"gridcolor\":\"white\",\"gridwidth\":2,\"linecolor\":\"white\",\"showbackground\":true,\"ticks\":\"\",\"zerolinecolor\":\"white\"}},\"shapedefaults\":{\"line\":{\"color\":\"#2a3f5f\"}},\"ternary\":{\"aaxis\":{\"gridcolor\":\"white\",\"linecolor\":\"white\",\"ticks\":\"\"},\"baxis\":{\"gridcolor\":\"white\",\"linecolor\":\"white\",\"ticks\":\"\"},\"bgcolor\":\"#E5ECF6\",\"caxis\":{\"gridcolor\":\"white\",\"linecolor\":\"white\",\"ticks\":\"\"}},\"title\":{\"x\":0.05},\"xaxis\":{\"automargin\":true,\"gridcolor\":\"white\",\"linecolor\":\"white\",\"ticks\":\"\",\"title\":{\"standoff\":15},\"zerolinecolor\":\"white\",\"zerolinewidth\":2},\"yaxis\":{\"automargin\":true,\"gridcolor\":\"white\",\"linecolor\":\"white\",\"ticks\":\"\",\"title\":{\"standoff\":15},\"zerolinecolor\":\"white\",\"zerolinewidth\":2}}},\"title\":{\"text\":\"Total Power Consumption v/s Variable Nodes and data is constant with Constant Gateways i,e 20\"},\"xaxis\":{\"title\":{\"text\":\"Variable Nodes\"}},\"yaxis\":{\"title\":{\"text\":\"Total Power Consumption\"}}},                        {\"responsive\": true}                    ).then(function(){\n",
              "                            \n",
              "var gd = document.getElementById('dbdbef45-3fdf-43ad-b45a-885480bf4e72');\n",
              "var x = new MutationObserver(function (mutations, observer) {{\n",
              "        var display = window.getComputedStyle(gd).display;\n",
              "        if (!display || display === 'none') {{\n",
              "            console.log([gd, 'removed!']);\n",
              "            Plotly.purge(gd);\n",
              "            observer.disconnect();\n",
              "        }}\n",
              "}});\n",
              "\n",
              "// Listen for the removal of the full notebook cells\n",
              "var notebookContainer = gd.closest('#notebook-container');\n",
              "if (notebookContainer) {{\n",
              "    x.observe(notebookContainer, {childList: true});\n",
              "}}\n",
              "\n",
              "// Listen for the clearing of the current output cell\n",
              "var outputEl = gd.closest('.output');\n",
              "if (outputEl) {{\n",
              "    x.observe(outputEl, {childList: true});\n",
              "}}\n",
              "\n",
              "                        })                };                            </script>        </div>\n",
              "</body>\n",
              "</html>"
            ]
          },
          "metadata": {}
        }
      ]
    },
    {
      "cell_type": "code",
      "source": [
        "#\"Graph4: Total data sent v/s variable nodes and constant gateways \"\n",
        "x = [x for x in range(5,101,5)]\n",
        "y1 = [255.3, 491.33673469387753, 710.2714285714286, 865.9090909090909, 948.6941176470589, 995.3737373737374, 1012.3, 992.28, 989.38, 979.64, 978.31, 977.94, 993.18, 991.57, 989.1, 991.12, 982.52, 991.44, 992.24, 996.65]\n",
        "z1 = [252.36, 498.27, 760.8, 969.87, 1246.1010101010102, 1461.6236559139784, 1663.8285714285714, 1824.909090909091, 1929.1772151898733, 1969.2967032967033, 1966.561224489796, 2016.74, 1992.83, 1959.86, 1964.53, 1958.03, 1976.49, 1980.58, 1979.72, 1952.44]\n",
        "m1 = [263.1, 502.73, 765.12, 1020.33, 1235.35, 1456.9, 1744.7, 1992.0707070707072, 2198.6530612244896, 2447.2, 2628.25, 2825.2166666666667, 2867.590361445783, 2949.8297872340427,2965.0204081632655, 2991.8888888888887, 2934.62, 2970.98, 2957.21, 2969.44]\n",
        "n1 = [245.94, 494.96, 741.57, 987.29, 1215.63, 1476.76, 1746.53, 2001.74, 2235.19, 2473.94, 2722.72, 2915.59, 3201.6354166666665, 3423.609756097561, 3608.6493506493507, 3786.4054054054054, 3845.0, 3939.2386363636365, 3944.3020833333335, 3934.59595959596]"
      ],
      "metadata": {
        "id": "tPjwgwfWh9Fi"
      },
      "execution_count": null,
      "outputs": []
    },
    {
      "cell_type": "code",
      "source": [
        "y2 = [234.92, 490.125, 733.1176470588235, 870.0, 990.0588235294117, 994.5217391304348, 970.125, 994.96, 1001.64, 969.08, 1010.32, 984.64, 985.36, 965.28, 991.52, 994.36, 956.16, 1025.92, 984.76, 1028.96]\n",
        "z2= [252.92, 462.56, 773.36, 971.04, 1226.56, 1467.1666666666667, 1672.3333333333333, 1814.7333333333333, 1986.157894736842, 2027.15, 1965.08, 2027.64, 2004.16, 2009.64, 1965.92, 1911.4, 1993.32, 2005.8, 1969.72, 2025.12]\n",
        "m2= [235.32, 503.2, 744.08, 972.44, 1247.92, 1573.08, 1682.32, 2047.24, 2155.0, 2422.2608695652175, 2669.5555555555557, 2834.285714285714, 2916.6363636363635, 2947.0, 2967.08, 2935.16, 2938.12, 2993.24, 2926.92, 2955.8]\n",
        "n2 = [242.36, 486.84, 712.52, 1007.32, 1201.56, 1479.96, 1799.16, 1948.64, 2296.64, 2453.72, 2715.4, 2987.08, 3124.75, 3407.608695652174, 3645.6, 3795.529411764706, 3818.3333333333335, 3956.714285714286, 3954.782608695652, 3997.25]"
      ],
      "metadata": {
        "id": "2k345V6oj1tc"
      },
      "execution_count": null,
      "outputs": []
    },
    {
      "cell_type": "code",
      "source": [
        "y3 = [429, 612, 620, 472, 395, 403, 382, 340, 343, 316, 332, 318, 294, 318, 309, 308, 285, 308, 286, 287]\n",
        "z3 = [486, 898, 963, 904, 802, 635, 591, 580, 548, 530, 519, 502, 503, 490, 468, 471, 457, 466, 439, 460]\n",
        "m3 = [499, 981, 1334, 1482, 1295, 1046, 979, 879, 831, 773, 749, 669, 704, 691, 680, 655, 636, 646, 622, 637] \n",
        "n = [500, 996, 1431, 1671, 1447, 1198, 1060, 986, 918, 870, 818, 804, 802, 773, 751, 738, 721, 691, 680, 660] "
      ],
      "metadata": {
        "id": "0hNqXkA-34IH"
      },
      "execution_count": null,
      "outputs": []
    },
    {
      "cell_type": "code",
      "source": [
        "import plotly.express as px\n",
        "import plotly.graph_objects as go\n",
        "from plotly.graph_objs.layout import Title\n",
        "import pandas as pd\n",
        "\n",
        "\n",
        "fig = go.Figure()\n",
        "fig.add_trace(\n",
        "    go.Scatter(x=x, y=y1, name=\"Gateways=20 for greedy equation1\", line=dict(color=\"blue\"), mode=\"lines+markers\")   \n",
        ")\n",
        "fig.add_trace(\n",
        "    go.Scatter(x=x, y=z1, name=\"Gateways=40 for greedy equation1\", mode='lines+markers')\n",
        ")\n",
        "fig.add_trace(\n",
        "    go.Scatter(x=x, y=m1, name=\"Gateways=60 for greedy equation1\", mode=\"lines+markers\")\n",
        ")\n",
        "fig.add_trace(\n",
        "    go.Scatter(x=x, y=n1, name=\"Gateways=80 for greedy equation1\", mode=\"lines+markers\")\n",
        ")\n",
        "\n",
        "fig.add_trace(\n",
        "    go.Scatter(x=x, y=y2, name=\"Gateways=20 for greedy equation2\", line=dict(color=\"blue\"), mode=\"lines\")   \n",
        ")\n",
        "fig.add_trace(\n",
        "    go.Scatter(x=x, y=z2, name=\"Gateways=40 for greedy equation2\", mode='lines')\n",
        ")\n",
        "fig.add_trace(\n",
        "    go.Scatter(x=x, y=m2, name=\"Gateways=60 for greedy equation2\", mode=\"lines\")\n",
        ")\n",
        "fig.add_trace(\n",
        "    go.Scatter(x=x, y=n2, name=\"Gateways=80 for greedy equation2\", line=dict(color=\"red\"),mode=\"lines\")\n",
        ")\n",
        "\n",
        "fig.add_trace(\n",
        "    go.Scatter(x=x, y=y3, name=\"Gateways=20 for brute force\", line=dict(color='royalblue', width=3, dash='dot'))   \n",
        ")\n",
        "fig.add_trace(\n",
        "    go.Scatter(x=x, y=z3, name=\"Gateways=40 for brute force\", line=dict(color='firebrick', width=3, dash='dot'))\n",
        ")\n",
        "fig.add_trace(\n",
        "    go.Scatter(x=x, y=m3, name=\"Gateways=60 for brute force\", line=dict(color='green', width=3, dash='dot'))\n",
        ")\n",
        "fig.add_trace(\n",
        "    go.Scatter(x=x, y=n3, name=\"Gateways=80 for brute force\", line=dict(color='red', width=3, dash='dot'))\n",
        ")\n",
        "\n",
        "fig.update_layout(\n",
        "    title = \"Total Data sent v/s Variable Nodes  with Constant Gateways\",\n",
        "    xaxis_title = \"Variable Nodes\",\n",
        "    yaxis_title = \"Total Data sent\",\n",
        ")\n",
        "fig.update_traces(textposition = \"bottom right\")"
      ],
      "metadata": {
        "id": "PyizrEB2kr3D",
        "outputId": "f96842d2-197f-4864-8703-77f5c45bdba8",
        "colab": {
          "base_uri": "https://localhost:8080/",
          "height": 542
        }
      },
      "execution_count": null,
      "outputs": [
        {
          "output_type": "display_data",
          "data": {
            "text/html": [
              "<html>\n",
              "<head><meta charset=\"utf-8\" /></head>\n",
              "<body>\n",
              "    <div>            <script src=\"https://cdnjs.cloudflare.com/ajax/libs/mathjax/2.7.5/MathJax.js?config=TeX-AMS-MML_SVG\"></script><script type=\"text/javascript\">if (window.MathJax) {MathJax.Hub.Config({SVG: {font: \"STIX-Web\"}});}</script>                <script type=\"text/javascript\">window.PlotlyConfig = {MathJaxConfig: 'local'};</script>\n",
              "        <script src=\"https://cdn.plot.ly/plotly-2.8.3.min.js\"></script>                <div id=\"cd28d60f-7b10-4932-9c9e-a2cfb2c2e474\" class=\"plotly-graph-div\" style=\"height:525px; width:100%;\"></div>            <script type=\"text/javascript\">                                    window.PLOTLYENV=window.PLOTLYENV || {};                                    if (document.getElementById(\"cd28d60f-7b10-4932-9c9e-a2cfb2c2e474\")) {                    Plotly.newPlot(                        \"cd28d60f-7b10-4932-9c9e-a2cfb2c2e474\",                        [{\"line\":{\"color\":\"blue\"},\"mode\":\"lines+markers\",\"name\":\"Gateways=20 for greedy equation1\",\"x\":[5,10,15,20,25,30,35,40,45,50,55,60,65,70,75,80,85,90,95,100],\"y\":[255.3,491.33673469387753,710.2714285714286,865.9090909090909,948.6941176470589,995.3737373737374,1012.3,992.28,989.38,979.64,978.31,977.94,993.18,991.57,989.1,991.12,982.52,991.44,992.24,996.65],\"type\":\"scatter\",\"textposition\":\"bottom right\"},{\"mode\":\"lines+markers\",\"name\":\"Gateways=40 for greedy equation1\",\"x\":[5,10,15,20,25,30,35,40,45,50,55,60,65,70,75,80,85,90,95,100],\"y\":[252.36,498.27,760.8,969.87,1246.1010101010102,1461.6236559139784,1663.8285714285714,1824.909090909091,1929.1772151898733,1969.2967032967033,1966.561224489796,2016.74,1992.83,1959.86,1964.53,1958.03,1976.49,1980.58,1979.72,1952.44],\"type\":\"scatter\",\"textposition\":\"bottom right\"},{\"mode\":\"lines+markers\",\"name\":\"Gateways=60 for greedy equation1\",\"x\":[5,10,15,20,25,30,35,40,45,50,55,60,65,70,75,80,85,90,95,100],\"y\":[263.1,502.73,765.12,1020.33,1235.35,1456.9,1744.7,1992.0707070707072,2198.6530612244896,2447.2,2628.25,2825.2166666666667,2867.590361445783,2949.8297872340427,2965.0204081632655,2991.8888888888887,2934.62,2970.98,2957.21,2969.44],\"type\":\"scatter\",\"textposition\":\"bottom right\"},{\"mode\":\"lines+markers\",\"name\":\"Gateways=80 for greedy equation1\",\"x\":[5,10,15,20,25,30,35,40,45,50,55,60,65,70,75,80,85,90,95,100],\"y\":[245.94,494.96,741.57,987.29,1215.63,1476.76,1746.53,2001.74,2235.19,2473.94,2722.72,2915.59,3201.6354166666665,3423.609756097561,3608.6493506493507,3786.4054054054054,3845.0,3939.2386363636365,3944.3020833333335,3934.59595959596],\"type\":\"scatter\",\"textposition\":\"bottom right\"},{\"line\":{\"color\":\"blue\"},\"mode\":\"lines\",\"name\":\"Gateways=20 for greedy equation2\",\"x\":[5,10,15,20,25,30,35,40,45,50,55,60,65,70,75,80,85,90,95,100],\"y\":[234.92,490.125,733.1176470588235,870.0,990.0588235294117,994.5217391304348,970.125,994.96,1001.64,969.08,1010.32,984.64,985.36,965.28,991.52,994.36,956.16,1025.92,984.76,1028.96],\"type\":\"scatter\",\"textposition\":\"bottom right\"},{\"mode\":\"lines\",\"name\":\"Gateways=40 for greedy equation2\",\"x\":[5,10,15,20,25,30,35,40,45,50,55,60,65,70,75,80,85,90,95,100],\"y\":[252.92,462.56,773.36,971.04,1226.56,1467.1666666666667,1672.3333333333333,1814.7333333333333,1986.157894736842,2027.15,1965.08,2027.64,2004.16,2009.64,1965.92,1911.4,1993.32,2005.8,1969.72,2025.12],\"type\":\"scatter\",\"textposition\":\"bottom right\"},{\"mode\":\"lines\",\"name\":\"Gateways=60 for greedy equation2\",\"x\":[5,10,15,20,25,30,35,40,45,50,55,60,65,70,75,80,85,90,95,100],\"y\":[235.32,503.2,744.08,972.44,1247.92,1573.08,1682.32,2047.24,2155.0,2422.2608695652175,2669.5555555555557,2834.285714285714,2916.6363636363635,2947.0,2967.08,2935.16,2938.12,2993.24,2926.92,2955.8],\"type\":\"scatter\",\"textposition\":\"bottom right\"},{\"line\":{\"color\":\"red\"},\"mode\":\"lines\",\"name\":\"Gateways=80 for greedy equation2\",\"x\":[5,10,15,20,25,30,35,40,45,50,55,60,65,70,75,80,85,90,95,100],\"y\":[242.36,486.84,712.52,1007.32,1201.56,1479.96,1799.16,1948.64,2296.64,2453.72,2715.4,2987.08,3124.75,3407.608695652174,3645.6,3795.529411764706,3818.3333333333335,3956.714285714286,3954.782608695652,3997.25],\"type\":\"scatter\",\"textposition\":\"bottom right\"},{\"line\":{\"color\":\"royalblue\",\"dash\":\"dot\",\"width\":3},\"name\":\"Gateways=20 for brute force\",\"x\":[5,10,15,20,25,30,35,40,45,50,55,60,65,70,75,80,85,90,95,100],\"y\":[429,612,620,472,395,403,382,340,343,316,332,318,294,318,309,308,285,308,286,287],\"type\":\"scatter\",\"textposition\":\"bottom right\"},{\"line\":{\"color\":\"firebrick\",\"dash\":\"dot\",\"width\":3},\"name\":\"Gateways=40 for brute force\",\"x\":[5,10,15,20,25,30,35,40,45,50,55,60,65,70,75,80,85,90,95,100],\"y\":[486,898,963,904,802,635,591,580,548,530,519,502,503,490,468,471,457,466,439,460],\"type\":\"scatter\",\"textposition\":\"bottom right\"},{\"line\":{\"color\":\"green\",\"dash\":\"dot\",\"width\":3},\"name\":\"Gateways=60 for brute force\",\"x\":[5,10,15,20,25,30,35,40,45,50,55,60,65,70,75,80,85,90,95,100],\"y\":[499,981,1334,1482,1295,1046,979,879,831,773,749,669,704,691,680,655,636,646,622,637],\"type\":\"scatter\",\"textposition\":\"bottom right\"},{\"line\":{\"color\":\"red\",\"dash\":\"dot\",\"width\":3},\"name\":\"Gateways=80 for brute force\",\"x\":[5,10,15,20,25,30,35,40,45,50,55,60,65,70,75,80,85,90,95,100],\"y\":[5.0,9.96,14.31,16.71,14.47,11.98,10.6,9.86,9.18,8.7,8.18,8.04,8.02,7.73,7.51,7.38,7.21,6.91,6.8,6.6,5.0,9.96,14.31,16.71,14.47,11.98,10.6,9.86,9.18,8.7,8.18,8.04,8.02,7.73,7.51,7.38,7.21,6.91,6.8,6.6,5.0,9.96,14.31,16.71,14.47,11.98,10.6,9.86,9.18,8.7,8.18,8.04,8.02,7.73,7.51,7.38,7.21,6.91,6.8,6.6,5.0,9.96,14.31,16.71,14.47,11.98,10.6,9.86,9.18,8.7,8.18,8.04,8.02,7.73,7.51,7.38,7.21,6.91,6.8,6.6,5.0,9.96,14.31,16.71,14.47,11.98,10.6,9.86,9.18,8.7,8.18,8.04,8.02,7.73,7.51,7.38,7.21,6.91,6.8,6.6,5.0,9.96,14.31,16.71,14.47,11.98,10.6,9.86,9.18,8.7,8.18,8.04,8.02,7.73,7.51,7.38,7.21,6.91,6.8,6.6,5.0,9.96,14.31,16.71,14.47,11.98,10.6,9.86,9.18,8.7,8.18,8.04,8.02,7.73,7.51,7.38,7.21,6.91,6.8,6.6,5.0,9.96,14.31,16.71,14.47,11.98,10.6,9.86,9.18,8.7,8.18,8.04,8.02,7.73,7.51,7.38,7.21,6.91,6.8,6.6,5.0,9.96,14.31,16.71,14.47,11.98,10.6,9.86,9.18,8.7,8.18,8.04,8.02,7.73,7.51,7.38,7.21,6.91,6.8,6.6,5.0,9.96,14.31,16.71,14.47,11.98,10.6,9.86,9.18,8.7,8.18,8.04,8.02,7.73,7.51,7.38,7.21,6.91,6.8,6.6,5.0,9.96,14.31,16.71,14.47,11.98,10.6,9.86,9.18,8.7,8.18,8.04,8.02,7.73,7.51,7.38,7.21,6.91,6.8,6.6,5.0,9.96,14.31,16.71,14.47,11.98,10.6,9.86,9.18,8.7,8.18,8.04,8.02,7.73,7.51,7.38,7.21,6.91,6.8,6.6,5.0,9.96,14.31,16.71,14.47,11.98,10.6,9.86,9.18,8.7,8.18,8.04,8.02,7.73,7.51,7.38,7.21,6.91,6.8,6.6,5.0,9.96,14.31,16.71,14.47,11.98,10.6,9.86,9.18,8.7,8.18,8.04,8.02,7.73,7.51,7.38,7.21,6.91,6.8,6.6,5.0,9.96,14.31,16.71,14.47,11.98,10.6,9.86,9.18,8.7,8.18,8.04,8.02,7.73,7.51,7.38,7.21,6.91,6.8,6.6,5.0,9.96,14.31,16.71,14.47,11.98,10.6,9.86,9.18,8.7,8.18,8.04,8.02,7.73,7.51,7.38,7.21,6.91,6.8,6.6,5.0,9.96,14.31,16.71,14.47,11.98,10.6,9.86,9.18,8.7,8.18,8.04,8.02,7.73,7.51,7.38,7.21,6.91,6.8,6.6,5.0,9.96,14.31,16.71,14.47,11.98,10.6,9.86,9.18,8.7,8.18,8.04,8.02,7.73,7.51,7.38,7.21,6.91,6.8,6.6,5.0,9.96,14.31,16.71,14.47,11.98,10.6,9.86,9.18,8.7,8.18,8.04,8.02,7.73,7.51,7.38,7.21,6.91,6.8,6.6,5.0,9.96,14.31,16.71,14.47,11.98,10.6,9.86,9.18,8.7,8.18,8.04,8.02,7.73,7.51,7.38,7.21,6.91,6.8,6.6,5.0,9.96,14.31,16.71,14.47,11.98,10.6,9.86,9.18,8.7,8.18,8.04,8.02,7.73,7.51,7.38,7.21,6.91,6.8,6.6,5.0,9.96,14.31,16.71,14.47,11.98,10.6,9.86,9.18,8.7,8.18,8.04,8.02,7.73,7.51,7.38,7.21,6.91,6.8,6.6,5.0,9.96,14.31,16.71,14.47,11.98,10.6,9.86,9.18,8.7,8.18,8.04,8.02,7.73,7.51,7.38,7.21,6.91,6.8,6.6,5.0,9.96,14.31,16.71,14.47,11.98,10.6,9.86,9.18,8.7,8.18,8.04,8.02,7.73,7.51,7.38,7.21,6.91,6.8,6.6,5.0,9.96,14.31,16.71,14.47,11.98,10.6,9.86,9.18,8.7,8.18,8.04,8.02,7.73,7.51,7.38,7.21,6.91,6.8,6.6,5.0,9.96,14.31,16.71,14.47,11.98,10.6,9.86,9.18,8.7,8.18,8.04,8.02,7.73,7.51,7.38,7.21,6.91,6.8,6.6,5.0,9.96,14.31,16.71,14.47,11.98,10.6,9.86,9.18,8.7,8.18,8.04,8.02,7.73,7.51,7.38,7.21,6.91,6.8,6.6,5.0,9.96,14.31,16.71,14.47,11.98,10.6,9.86,9.18,8.7,8.18,8.04,8.02,7.73,7.51,7.38,7.21,6.91,6.8,6.6,5.0,9.96,14.31,16.71,14.47,11.98,10.6,9.86,9.18,8.7,8.18,8.04,8.02,7.73,7.51,7.38,7.21,6.91,6.8,6.6,5.0,9.96,14.31,16.71,14.47,11.98,10.6,9.86,9.18,8.7,8.18,8.04,8.02,7.73,7.51,7.38,7.21,6.91,6.8,6.6,5.0,9.96,14.31,16.71,14.47,11.98,10.6,9.86,9.18,8.7,8.18,8.04,8.02,7.73,7.51,7.38,7.21,6.91,6.8,6.6,5.0,9.96,14.31,16.71,14.47,11.98,10.6,9.86,9.18,8.7,8.18,8.04,8.02,7.73,7.51,7.38,7.21,6.91,6.8,6.6,5.0,9.96,14.31,16.71,14.47,11.98,10.6,9.86,9.18,8.7,8.18,8.04,8.02,7.73,7.51,7.38,7.21,6.91,6.8,6.6,5.0,9.96,14.31,16.71,14.47,11.98,10.6,9.86,9.18,8.7,8.18,8.04,8.02,7.73,7.51,7.38,7.21,6.91,6.8,6.6,5.0,9.96,14.31,16.71,14.47,11.98,10.6,9.86,9.18,8.7,8.18,8.04,8.02,7.73,7.51,7.38,7.21,6.91,6.8,6.6,5.0,9.96,14.31,16.71,14.47,11.98,10.6,9.86,9.18,8.7,8.18,8.04,8.02,7.73,7.51,7.38,7.21,6.91,6.8,6.6,5.0,9.96,14.31,16.71,14.47,11.98,10.6,9.86,9.18,8.7,8.18,8.04,8.02,7.73,7.51,7.38,7.21,6.91,6.8,6.6,5.0,9.96,14.31,16.71,14.47,11.98,10.6,9.86,9.18,8.7,8.18,8.04,8.02,7.73,7.51,7.38,7.21,6.91,6.8,6.6,5.0,9.96,14.31,16.71,14.47,11.98,10.6,9.86,9.18,8.7,8.18,8.04,8.02,7.73,7.51,7.38,7.21,6.91,6.8,6.6,5.0,9.96,14.31,16.71,14.47,11.98,10.6,9.86,9.18,8.7,8.18,8.04,8.02,7.73,7.51,7.38,7.21,6.91,6.8,6.6,5.0,9.96,14.31,16.71,14.47,11.98,10.6,9.86,9.18,8.7,8.18,8.04,8.02,7.73,7.51,7.38,7.21,6.91,6.8,6.6,5.0,9.96,14.31,16.71,14.47,11.98,10.6,9.86,9.18,8.7,8.18,8.04,8.02,7.73,7.51,7.38,7.21,6.91,6.8,6.6,5.0,9.96,14.31,16.71,14.47,11.98,10.6,9.86,9.18,8.7,8.18,8.04,8.02,7.73,7.51,7.38,7.21,6.91,6.8,6.6,5.0,9.96,14.31,16.71,14.47,11.98,10.6,9.86,9.18,8.7,8.18,8.04,8.02,7.73,7.51,7.38,7.21,6.91,6.8,6.6,5.0,9.96,14.31,16.71,14.47,11.98,10.6,9.86,9.18,8.7,8.18,8.04,8.02,7.73,7.51,7.38,7.21,6.91,6.8,6.6,5.0,9.96,14.31,16.71,14.47,11.98,10.6,9.86,9.18,8.7,8.18,8.04,8.02,7.73,7.51,7.38,7.21,6.91,6.8,6.6,5.0,9.96,14.31,16.71,14.47,11.98,10.6,9.86,9.18,8.7,8.18,8.04,8.02,7.73,7.51,7.38,7.21,6.91,6.8,6.6,5.0,9.96,14.31,16.71,14.47,11.98,10.6,9.86,9.18,8.7,8.18,8.04,8.02,7.73,7.51,7.38,7.21,6.91,6.8,6.6,5.0,9.96,14.31,16.71,14.47,11.98,10.6,9.86,9.18,8.7,8.18,8.04,8.02,7.73,7.51,7.38,7.21,6.91,6.8,6.6,5.0,9.96,14.31,16.71,14.47,11.98,10.6,9.86,9.18,8.7,8.18,8.04,8.02,7.73,7.51,7.38,7.21,6.91,6.8,6.6,5.0,9.96,14.31,16.71,14.47,11.98,10.6,9.86,9.18,8.7,8.18,8.04,8.02,7.73,7.51,7.38,7.21,6.91,6.8,6.6,5.0,9.96,14.31,16.71,14.47,11.98,10.6,9.86,9.18,8.7,8.18,8.04,8.02,7.73,7.51,7.38,7.21,6.91,6.8,6.6,5.0,9.96,14.31,16.71,14.47,11.98,10.6,9.86,9.18,8.7,8.18,8.04,8.02,7.73,7.51,7.38,7.21,6.91,6.8,6.6,5.0,9.96,14.31,16.71,14.47,11.98,10.6,9.86,9.18,8.7,8.18,8.04,8.02,7.73,7.51,7.38,7.21,6.91,6.8,6.6,5.0,9.96,14.31,16.71,14.47,11.98,10.6,9.86,9.18,8.7,8.18,8.04,8.02,7.73,7.51,7.38,7.21,6.91,6.8,6.6,5.0,9.96,14.31,16.71,14.47,11.98,10.6,9.86,9.18,8.7,8.18,8.04,8.02,7.73,7.51,7.38,7.21,6.91,6.8,6.6,5.0,9.96,14.31,16.71,14.47,11.98,10.6,9.86,9.18,8.7,8.18,8.04,8.02,7.73,7.51,7.38,7.21,6.91,6.8,6.6,5.0,9.96,14.31,16.71,14.47,11.98,10.6,9.86,9.18,8.7,8.18,8.04,8.02,7.73,7.51,7.38,7.21,6.91,6.8,6.6,5.0,9.96,14.31,16.71,14.47,11.98,10.6,9.86,9.18,8.7,8.18,8.04,8.02,7.73,7.51,7.38,7.21,6.91,6.8,6.6,5.0,9.96,14.31,16.71,14.47,11.98,10.6,9.86,9.18,8.7,8.18,8.04,8.02,7.73,7.51,7.38,7.21,6.91,6.8,6.6,5.0,9.96,14.31,16.71,14.47,11.98,10.6,9.86,9.18,8.7,8.18,8.04,8.02,7.73,7.51,7.38,7.21,6.91,6.8,6.6,5.0,9.96,14.31,16.71,14.47,11.98,10.6,9.86,9.18,8.7,8.18,8.04,8.02,7.73,7.51,7.38,7.21,6.91,6.8,6.6,5.0,9.96,14.31,16.71,14.47,11.98,10.6,9.86,9.18,8.7,8.18,8.04,8.02,7.73,7.51,7.38,7.21,6.91,6.8,6.6,5.0,9.96,14.31,16.71,14.47,11.98,10.6,9.86,9.18,8.7,8.18,8.04,8.02,7.73,7.51,7.38,7.21,6.91,6.8,6.6,5.0,9.96,14.31,16.71,14.47,11.98,10.6,9.86,9.18,8.7,8.18,8.04,8.02,7.73,7.51,7.38,7.21,6.91,6.8,6.6,5.0,9.96,14.31,16.71,14.47,11.98,10.6,9.86,9.18,8.7,8.18,8.04,8.02,7.73,7.51,7.38,7.21,6.91,6.8,6.6,5.0,9.96,14.31,16.71,14.47,11.98,10.6,9.86,9.18,8.7,8.18,8.04,8.02,7.73,7.51,7.38,7.21,6.91,6.8,6.6,5.0,9.96,14.31,16.71,14.47,11.98,10.6,9.86,9.18,8.7,8.18,8.04,8.02,7.73,7.51,7.38,7.21,6.91,6.8,6.6,5.0,9.96,14.31,16.71,14.47,11.98,10.6,9.86,9.18,8.7,8.18,8.04,8.02,7.73,7.51,7.38,7.21,6.91,6.8,6.6,5.0,9.96,14.31,16.71,14.47,11.98,10.6,9.86,9.18,8.7,8.18,8.04,8.02,7.73,7.51,7.38,7.21,6.91,6.8,6.6,5.0,9.96,14.31,16.71,14.47,11.98,10.6,9.86,9.18,8.7,8.18,8.04,8.02,7.73,7.51,7.38,7.21,6.91,6.8,6.6,5.0,9.96,14.31,16.71,14.47,11.98,10.6,9.86,9.18,8.7,8.18,8.04,8.02,7.73,7.51,7.38,7.21,6.91,6.8,6.6,5.0,9.96,14.31,16.71,14.47,11.98,10.6,9.86,9.18,8.7,8.18,8.04,8.02,7.73,7.51,7.38,7.21,6.91,6.8,6.6,5.0,9.96,14.31,16.71,14.47,11.98,10.6,9.86,9.18,8.7,8.18,8.04,8.02,7.73,7.51,7.38,7.21,6.91,6.8,6.6,5.0,9.96,14.31,16.71,14.47,11.98,10.6,9.86,9.18,8.7,8.18,8.04,8.02,7.73,7.51,7.38,7.21,6.91,6.8,6.6,5.0,9.96,14.31,16.71,14.47,11.98,10.6,9.86,9.18,8.7,8.18,8.04,8.02,7.73,7.51,7.38,7.21,6.91,6.8,6.6,5.0,9.96,14.31,16.71,14.47,11.98,10.6,9.86,9.18,8.7,8.18,8.04,8.02,7.73,7.51,7.38,7.21,6.91,6.8,6.6,5.0,9.96,14.31,16.71,14.47,11.98,10.6,9.86,9.18,8.7,8.18,8.04,8.02,7.73,7.51,7.38,7.21,6.91,6.8,6.6,5.0,9.96,14.31,16.71,14.47,11.98,10.6,9.86,9.18,8.7,8.18,8.04,8.02,7.73,7.51,7.38,7.21,6.91,6.8,6.6,5.0,9.96,14.31,16.71,14.47,11.98,10.6,9.86,9.18,8.7,8.18,8.04,8.02,7.73,7.51,7.38,7.21,6.91,6.8,6.6,5.0,9.96,14.31,16.71,14.47,11.98,10.6,9.86,9.18,8.7,8.18,8.04,8.02,7.73,7.51,7.38,7.21,6.91,6.8,6.6,5.0,9.96,14.31,16.71,14.47,11.98,10.6,9.86,9.18,8.7,8.18,8.04,8.02,7.73,7.51,7.38,7.21,6.91,6.8,6.6,5.0,9.96,14.31,16.71,14.47,11.98,10.6,9.86,9.18,8.7,8.18,8.04,8.02,7.73,7.51,7.38,7.21,6.91,6.8,6.6,5.0,9.96,14.31,16.71,14.47,11.98,10.6,9.86,9.18,8.7,8.18,8.04,8.02,7.73,7.51,7.38,7.21,6.91,6.8,6.6,5.0,9.96,14.31,16.71,14.47,11.98,10.6,9.86,9.18,8.7,8.18,8.04,8.02,7.73,7.51,7.38,7.21,6.91,6.8,6.6,5.0,9.96,14.31,16.71,14.47,11.98,10.6,9.86,9.18,8.7,8.18,8.04,8.02,7.73,7.51,7.38,7.21,6.91,6.8,6.6,5.0,9.96,14.31,16.71,14.47,11.98,10.6,9.86,9.18,8.7,8.18,8.04,8.02,7.73,7.51,7.38,7.21,6.91,6.8,6.6,5.0,9.96,14.31,16.71,14.47,11.98,10.6,9.86,9.18,8.7,8.18,8.04,8.02,7.73,7.51,7.38,7.21,6.91,6.8,6.6,5.0,9.96,14.31,16.71,14.47,11.98,10.6,9.86,9.18,8.7,8.18,8.04,8.02,7.73,7.51,7.38,7.21,6.91,6.8,6.6,5.0,9.96,14.31,16.71,14.47,11.98,10.6,9.86,9.18,8.7,8.18,8.04,8.02,7.73,7.51,7.38,7.21,6.91,6.8,6.6,5.0,9.96,14.31,16.71,14.47,11.98,10.6,9.86,9.18,8.7,8.18,8.04,8.02,7.73,7.51,7.38,7.21,6.91,6.8,6.6,5.0,9.96,14.31,16.71,14.47,11.98,10.6,9.86,9.18,8.7,8.18,8.04,8.02,7.73,7.51,7.38,7.21,6.91,6.8,6.6,5.0,9.96,14.31,16.71,14.47,11.98,10.6,9.86,9.18,8.7,8.18,8.04,8.02,7.73,7.51,7.38,7.21,6.91,6.8,6.6,5.0,9.96,14.31,16.71,14.47,11.98,10.6,9.86,9.18,8.7,8.18,8.04,8.02,7.73,7.51,7.38,7.21,6.91,6.8,6.6,5.0,9.96,14.31,16.71,14.47,11.98,10.6,9.86,9.18,8.7,8.18,8.04,8.02,7.73,7.51,7.38,7.21,6.91,6.8,6.6,5.0,9.96,14.31,16.71,14.47,11.98,10.6,9.86,9.18,8.7,8.18,8.04,8.02,7.73,7.51,7.38,7.21,6.91,6.8,6.6,5.0,9.96,14.31,16.71,14.47,11.98,10.6,9.86,9.18,8.7,8.18,8.04,8.02,7.73,7.51,7.38,7.21,6.91,6.8,6.6,5.0,9.96,14.31,16.71,14.47,11.98,10.6,9.86,9.18,8.7,8.18,8.04,8.02,7.73,7.51,7.38,7.21,6.91,6.8,6.6,5.0,9.96,14.31,16.71,14.47,11.98,10.6,9.86,9.18,8.7,8.18,8.04,8.02,7.73,7.51,7.38,7.21,6.91,6.8,6.6,5.0,9.96,14.31,16.71,14.47,11.98,10.6,9.86,9.18,8.7,8.18,8.04,8.02,7.73,7.51,7.38,7.21,6.91,6.8,6.6],\"type\":\"scatter\",\"textposition\":\"bottom right\"}],                        {\"template\":{\"data\":{\"bar\":[{\"error_x\":{\"color\":\"#2a3f5f\"},\"error_y\":{\"color\":\"#2a3f5f\"},\"marker\":{\"line\":{\"color\":\"#E5ECF6\",\"width\":0.5},\"pattern\":{\"fillmode\":\"overlay\",\"size\":10,\"solidity\":0.2}},\"type\":\"bar\"}],\"barpolar\":[{\"marker\":{\"line\":{\"color\":\"#E5ECF6\",\"width\":0.5},\"pattern\":{\"fillmode\":\"overlay\",\"size\":10,\"solidity\":0.2}},\"type\":\"barpolar\"}],\"carpet\":[{\"aaxis\":{\"endlinecolor\":\"#2a3f5f\",\"gridcolor\":\"white\",\"linecolor\":\"white\",\"minorgridcolor\":\"white\",\"startlinecolor\":\"#2a3f5f\"},\"baxis\":{\"endlinecolor\":\"#2a3f5f\",\"gridcolor\":\"white\",\"linecolor\":\"white\",\"minorgridcolor\":\"white\",\"startlinecolor\":\"#2a3f5f\"},\"type\":\"carpet\"}],\"choropleth\":[{\"colorbar\":{\"outlinewidth\":0,\"ticks\":\"\"},\"type\":\"choropleth\"}],\"contour\":[{\"colorbar\":{\"outlinewidth\":0,\"ticks\":\"\"},\"colorscale\":[[0.0,\"#0d0887\"],[0.1111111111111111,\"#46039f\"],[0.2222222222222222,\"#7201a8\"],[0.3333333333333333,\"#9c179e\"],[0.4444444444444444,\"#bd3786\"],[0.5555555555555556,\"#d8576b\"],[0.6666666666666666,\"#ed7953\"],[0.7777777777777778,\"#fb9f3a\"],[0.8888888888888888,\"#fdca26\"],[1.0,\"#f0f921\"]],\"type\":\"contour\"}],\"contourcarpet\":[{\"colorbar\":{\"outlinewidth\":0,\"ticks\":\"\"},\"type\":\"contourcarpet\"}],\"heatmap\":[{\"colorbar\":{\"outlinewidth\":0,\"ticks\":\"\"},\"colorscale\":[[0.0,\"#0d0887\"],[0.1111111111111111,\"#46039f\"],[0.2222222222222222,\"#7201a8\"],[0.3333333333333333,\"#9c179e\"],[0.4444444444444444,\"#bd3786\"],[0.5555555555555556,\"#d8576b\"],[0.6666666666666666,\"#ed7953\"],[0.7777777777777778,\"#fb9f3a\"],[0.8888888888888888,\"#fdca26\"],[1.0,\"#f0f921\"]],\"type\":\"heatmap\"}],\"heatmapgl\":[{\"colorbar\":{\"outlinewidth\":0,\"ticks\":\"\"},\"colorscale\":[[0.0,\"#0d0887\"],[0.1111111111111111,\"#46039f\"],[0.2222222222222222,\"#7201a8\"],[0.3333333333333333,\"#9c179e\"],[0.4444444444444444,\"#bd3786\"],[0.5555555555555556,\"#d8576b\"],[0.6666666666666666,\"#ed7953\"],[0.7777777777777778,\"#fb9f3a\"],[0.8888888888888888,\"#fdca26\"],[1.0,\"#f0f921\"]],\"type\":\"heatmapgl\"}],\"histogram\":[{\"marker\":{\"pattern\":{\"fillmode\":\"overlay\",\"size\":10,\"solidity\":0.2}},\"type\":\"histogram\"}],\"histogram2d\":[{\"colorbar\":{\"outlinewidth\":0,\"ticks\":\"\"},\"colorscale\":[[0.0,\"#0d0887\"],[0.1111111111111111,\"#46039f\"],[0.2222222222222222,\"#7201a8\"],[0.3333333333333333,\"#9c179e\"],[0.4444444444444444,\"#bd3786\"],[0.5555555555555556,\"#d8576b\"],[0.6666666666666666,\"#ed7953\"],[0.7777777777777778,\"#fb9f3a\"],[0.8888888888888888,\"#fdca26\"],[1.0,\"#f0f921\"]],\"type\":\"histogram2d\"}],\"histogram2dcontour\":[{\"colorbar\":{\"outlinewidth\":0,\"ticks\":\"\"},\"colorscale\":[[0.0,\"#0d0887\"],[0.1111111111111111,\"#46039f\"],[0.2222222222222222,\"#7201a8\"],[0.3333333333333333,\"#9c179e\"],[0.4444444444444444,\"#bd3786\"],[0.5555555555555556,\"#d8576b\"],[0.6666666666666666,\"#ed7953\"],[0.7777777777777778,\"#fb9f3a\"],[0.8888888888888888,\"#fdca26\"],[1.0,\"#f0f921\"]],\"type\":\"histogram2dcontour\"}],\"mesh3d\":[{\"colorbar\":{\"outlinewidth\":0,\"ticks\":\"\"},\"type\":\"mesh3d\"}],\"parcoords\":[{\"line\":{\"colorbar\":{\"outlinewidth\":0,\"ticks\":\"\"}},\"type\":\"parcoords\"}],\"pie\":[{\"automargin\":true,\"type\":\"pie\"}],\"scatter\":[{\"marker\":{\"colorbar\":{\"outlinewidth\":0,\"ticks\":\"\"}},\"type\":\"scatter\"}],\"scatter3d\":[{\"line\":{\"colorbar\":{\"outlinewidth\":0,\"ticks\":\"\"}},\"marker\":{\"colorbar\":{\"outlinewidth\":0,\"ticks\":\"\"}},\"type\":\"scatter3d\"}],\"scattercarpet\":[{\"marker\":{\"colorbar\":{\"outlinewidth\":0,\"ticks\":\"\"}},\"type\":\"scattercarpet\"}],\"scattergeo\":[{\"marker\":{\"colorbar\":{\"outlinewidth\":0,\"ticks\":\"\"}},\"type\":\"scattergeo\"}],\"scattergl\":[{\"marker\":{\"colorbar\":{\"outlinewidth\":0,\"ticks\":\"\"}},\"type\":\"scattergl\"}],\"scattermapbox\":[{\"marker\":{\"colorbar\":{\"outlinewidth\":0,\"ticks\":\"\"}},\"type\":\"scattermapbox\"}],\"scatterpolar\":[{\"marker\":{\"colorbar\":{\"outlinewidth\":0,\"ticks\":\"\"}},\"type\":\"scatterpolar\"}],\"scatterpolargl\":[{\"marker\":{\"colorbar\":{\"outlinewidth\":0,\"ticks\":\"\"}},\"type\":\"scatterpolargl\"}],\"scatterternary\":[{\"marker\":{\"colorbar\":{\"outlinewidth\":0,\"ticks\":\"\"}},\"type\":\"scatterternary\"}],\"surface\":[{\"colorbar\":{\"outlinewidth\":0,\"ticks\":\"\"},\"colorscale\":[[0.0,\"#0d0887\"],[0.1111111111111111,\"#46039f\"],[0.2222222222222222,\"#7201a8\"],[0.3333333333333333,\"#9c179e\"],[0.4444444444444444,\"#bd3786\"],[0.5555555555555556,\"#d8576b\"],[0.6666666666666666,\"#ed7953\"],[0.7777777777777778,\"#fb9f3a\"],[0.8888888888888888,\"#fdca26\"],[1.0,\"#f0f921\"]],\"type\":\"surface\"}],\"table\":[{\"cells\":{\"fill\":{\"color\":\"#EBF0F8\"},\"line\":{\"color\":\"white\"}},\"header\":{\"fill\":{\"color\":\"#C8D4E3\"},\"line\":{\"color\":\"white\"}},\"type\":\"table\"}]},\"layout\":{\"annotationdefaults\":{\"arrowcolor\":\"#2a3f5f\",\"arrowhead\":0,\"arrowwidth\":1},\"autotypenumbers\":\"strict\",\"coloraxis\":{\"colorbar\":{\"outlinewidth\":0,\"ticks\":\"\"}},\"colorscale\":{\"diverging\":[[0,\"#8e0152\"],[0.1,\"#c51b7d\"],[0.2,\"#de77ae\"],[0.3,\"#f1b6da\"],[0.4,\"#fde0ef\"],[0.5,\"#f7f7f7\"],[0.6,\"#e6f5d0\"],[0.7,\"#b8e186\"],[0.8,\"#7fbc41\"],[0.9,\"#4d9221\"],[1,\"#276419\"]],\"sequential\":[[0.0,\"#0d0887\"],[0.1111111111111111,\"#46039f\"],[0.2222222222222222,\"#7201a8\"],[0.3333333333333333,\"#9c179e\"],[0.4444444444444444,\"#bd3786\"],[0.5555555555555556,\"#d8576b\"],[0.6666666666666666,\"#ed7953\"],[0.7777777777777778,\"#fb9f3a\"],[0.8888888888888888,\"#fdca26\"],[1.0,\"#f0f921\"]],\"sequentialminus\":[[0.0,\"#0d0887\"],[0.1111111111111111,\"#46039f\"],[0.2222222222222222,\"#7201a8\"],[0.3333333333333333,\"#9c179e\"],[0.4444444444444444,\"#bd3786\"],[0.5555555555555556,\"#d8576b\"],[0.6666666666666666,\"#ed7953\"],[0.7777777777777778,\"#fb9f3a\"],[0.8888888888888888,\"#fdca26\"],[1.0,\"#f0f921\"]]},\"colorway\":[\"#636efa\",\"#EF553B\",\"#00cc96\",\"#ab63fa\",\"#FFA15A\",\"#19d3f3\",\"#FF6692\",\"#B6E880\",\"#FF97FF\",\"#FECB52\"],\"font\":{\"color\":\"#2a3f5f\"},\"geo\":{\"bgcolor\":\"white\",\"lakecolor\":\"white\",\"landcolor\":\"#E5ECF6\",\"showlakes\":true,\"showland\":true,\"subunitcolor\":\"white\"},\"hoverlabel\":{\"align\":\"left\"},\"hovermode\":\"closest\",\"mapbox\":{\"style\":\"light\"},\"paper_bgcolor\":\"white\",\"plot_bgcolor\":\"#E5ECF6\",\"polar\":{\"angularaxis\":{\"gridcolor\":\"white\",\"linecolor\":\"white\",\"ticks\":\"\"},\"bgcolor\":\"#E5ECF6\",\"radialaxis\":{\"gridcolor\":\"white\",\"linecolor\":\"white\",\"ticks\":\"\"}},\"scene\":{\"xaxis\":{\"backgroundcolor\":\"#E5ECF6\",\"gridcolor\":\"white\",\"gridwidth\":2,\"linecolor\":\"white\",\"showbackground\":true,\"ticks\":\"\",\"zerolinecolor\":\"white\"},\"yaxis\":{\"backgroundcolor\":\"#E5ECF6\",\"gridcolor\":\"white\",\"gridwidth\":2,\"linecolor\":\"white\",\"showbackground\":true,\"ticks\":\"\",\"zerolinecolor\":\"white\"},\"zaxis\":{\"backgroundcolor\":\"#E5ECF6\",\"gridcolor\":\"white\",\"gridwidth\":2,\"linecolor\":\"white\",\"showbackground\":true,\"ticks\":\"\",\"zerolinecolor\":\"white\"}},\"shapedefaults\":{\"line\":{\"color\":\"#2a3f5f\"}},\"ternary\":{\"aaxis\":{\"gridcolor\":\"white\",\"linecolor\":\"white\",\"ticks\":\"\"},\"baxis\":{\"gridcolor\":\"white\",\"linecolor\":\"white\",\"ticks\":\"\"},\"bgcolor\":\"#E5ECF6\",\"caxis\":{\"gridcolor\":\"white\",\"linecolor\":\"white\",\"ticks\":\"\"}},\"title\":{\"x\":0.05},\"xaxis\":{\"automargin\":true,\"gridcolor\":\"white\",\"linecolor\":\"white\",\"ticks\":\"\",\"title\":{\"standoff\":15},\"zerolinecolor\":\"white\",\"zerolinewidth\":2},\"yaxis\":{\"automargin\":true,\"gridcolor\":\"white\",\"linecolor\":\"white\",\"ticks\":\"\",\"title\":{\"standoff\":15},\"zerolinecolor\":\"white\",\"zerolinewidth\":2}}},\"title\":{\"text\":\"Total Data sent v/s Variable Nodes  with Constant Gateways\"},\"xaxis\":{\"title\":{\"text\":\"Variable Nodes\"}},\"yaxis\":{\"title\":{\"text\":\"Total Data sent\"}}},                        {\"responsive\": true}                    ).then(function(){\n",
              "                            \n",
              "var gd = document.getElementById('cd28d60f-7b10-4932-9c9e-a2cfb2c2e474');\n",
              "var x = new MutationObserver(function (mutations, observer) {{\n",
              "        var display = window.getComputedStyle(gd).display;\n",
              "        if (!display || display === 'none') {{\n",
              "            console.log([gd, 'removed!']);\n",
              "            Plotly.purge(gd);\n",
              "            observer.disconnect();\n",
              "        }}\n",
              "}});\n",
              "\n",
              "// Listen for the removal of the full notebook cells\n",
              "var notebookContainer = gd.closest('#notebook-container');\n",
              "if (notebookContainer) {{\n",
              "    x.observe(notebookContainer, {childList: true});\n",
              "}}\n",
              "\n",
              "// Listen for the clearing of the current output cell\n",
              "var outputEl = gd.closest('.output');\n",
              "if (outputEl) {{\n",
              "    x.observe(outputEl, {childList: true});\n",
              "}}\n",
              "\n",
              "                        })                };                            </script>        </div>\n",
              "</body>\n",
              "</html>"
            ]
          },
          "metadata": {}
        }
      ]
    },
    {
      "cell_type": "code",
      "source": [
        "#graph 5:Data  sent fully v/s variable node with constant Gateways\n",
        "x = [x for x in range(5,101,5)]\n",
        "y1 = [5.0, 10.0, 14.616438356164384, 11.4, 9.024096385542169, 7.938775510204081, 6.38, 6.0, 4.97, 4.52, 4.11, 4.24, 3.99, 3.67, 3.57, 3.45, 3.25, 3.66, 3.4, 2.78]\n",
        "z1= [5.0, 10.0, 15.0, 20.0, 25.0, 29.595238095238095, 31.815384615384616, 28.234375, 21.679012345679013, 18.572916666666668, 16.242424242424242, 14.02, 13.15, 11.86, 11.82, 10.28, 9.88, 9.66, 8.99, 9.09]\n",
        "m1 = [5.0, 10.0, 15.0, 20.0, 25.0, 30.0, 35.0, 40.0, 45.0, 49.49411764705882, 52.04477611940298, 43.682539682539684, 33.9125, 31.921348314606742, 26.72, 24.73, 23.31, 21.51, 19.2, 18.13]\n",
        "n1= [5.0, 10.0, 15.0, 20.0, 25.0, 30.0, 35.0, 40.0, 45.0, 50.0, 55.0, 60.0, 64.85714285714286, 69.55294117647058, 66.75, 61.267605633802816, 53.764044943820224, 42.08045977011494, 38.791666666666664, 35.224489795918366]\n",
        "\n"
      ],
      "metadata": {
        "id": "IvjsHrqMh_ai"
      },
      "execution_count": null,
      "outputs": []
    },
    {
      "cell_type": "code",
      "source": [
        "y2= [5.0, 10.0, 14.773333333333333, 18.196428571428573, 18.136363636363637, 18.06741573033708, 18.545454545454547, 19.73, 18.95, 19.33, 19.26, 19.65, 19.79, 19.44, 19.56, 19.28, 19.5, 19.75, 20.52, 19.89]\n",
        "z2= [5.0, 10.0, 15.0, 20.0, 25.0, 30.0, 34.5945945945946, 37.484375, 38.111111111111114, 38.395348837209305, 38.47959183673469, 38.96, 38.85, 39.38, 39.74, 39.15, 39.7, 39.01, 39.65, 39.59]\n",
        "m2= [5.0, 10.0, 15.0, 20.0, 25.0, 30.0, 35.0, 40.0, 45.0, 49.888888888888886, 54.30952380952381, 57.1764705882353, 56.4078947368421, 57.473118279569896, 58.775510204081634, 58.49, 59.16, 59.77, 60.1, 58.97]\n",
        "n2= [5.0, 10.0, 15.0, 20.0, 25.0, 30.0, 35.0, 40.0, 45.0, 50.0, 55.0, 60.0, 65.0, 69.93548387096774, 74.0246913580247, 76.41428571428571, 77.425, 77.5909090909091, 78.51041666666667, 78.59183673469387]"
      ],
      "metadata": {
        "id": "FkDeDLWbkI3r"
      },
      "execution_count": null,
      "outputs": []
    },
    {
      "cell_type": "code",
      "source": [
        ""
      ],
      "metadata": {
        "id": "ZHeCIqrrhhGn"
      },
      "execution_count": null,
      "outputs": []
    },
    {
      "cell_type": "code",
      "source": [
        "import plotly.express as px\n",
        "import plotly.graph_objects as go\n",
        "from plotly.graph_objs.layout import Title\n",
        "import pandas as pd\n",
        "\n",
        "\n",
        "fig = go.Figure()\n",
        "fig.add_trace(\n",
        "    go.Scatter(x=x, y=y1, name=\"Gateways=20 for greedy equation1\", line=dict(color=\"blue\"), mode=\"lines+markers\")   \n",
        ")\n",
        "fig.add_trace(\n",
        "    go.Scatter(x=x, y=z1, name=\"Gateways=40 for greedy equation1\", mode='lines+markers')\n",
        ")\n",
        "fig.add_trace(\n",
        "    go.Scatter(x=x, y=m1, name=\"Gateways=60 for greedy equation1\", mode=\"lines+markers\")\n",
        ")\n",
        "fig.add_trace(\n",
        "    go.Scatter(x=x, y=n1, name=\"Gateways=80 for greedy equation1\", mode=\"lines+markers\")\n",
        ")\n",
        "\n",
        "fig.add_trace(\n",
        "    go.Scatter(x=x, y=y2, name=\"Gateways=20 for greedy equation2\", line=dict(color=\"blue\"), mode=\"lines\")   \n",
        ")\n",
        "fig.add_trace(\n",
        "    go.Scatter(x=x, y=z2, name=\"Gateways=40 for greedy equation2\", mode='lines')\n",
        ")\n",
        "fig.add_trace(\n",
        "    go.Scatter(x=x, y=m2, name=\"Gateways=60 for greedy equation2\", mode=\"lines\")\n",
        ")\n",
        "fig.add_trace(\n",
        "    go.Scatter(x=x, y=n2, name=\"Gateways=80 for greedy equation2\", line=dict(color=\"red\"),mode=\"lines\")\n",
        ")\n",
        "\n",
        "fig.update_layout(\n",
        "    title = \"Data sent fully v/s variable node with constant Gateways\",\n",
        "    xaxis_title = \"Variable Nodes\",\n",
        "    yaxis_title = \"No of Nodes data sent fully\",\n",
        ")\n",
        "fig.update_traces(textposition = \"bottom right\")"
      ],
      "metadata": {
        "id": "pvgQYdcnktgk",
        "outputId": "d495e94a-6684-4282-e27f-7c29bb44a761",
        "colab": {
          "base_uri": "https://localhost:8080/",
          "height": 542
        }
      },
      "execution_count": null,
      "outputs": [
        {
          "output_type": "display_data",
          "data": {
            "text/html": [
              "<html>\n",
              "<head><meta charset=\"utf-8\" /></head>\n",
              "<body>\n",
              "    <div>            <script src=\"https://cdnjs.cloudflare.com/ajax/libs/mathjax/2.7.5/MathJax.js?config=TeX-AMS-MML_SVG\"></script><script type=\"text/javascript\">if (window.MathJax) {MathJax.Hub.Config({SVG: {font: \"STIX-Web\"}});}</script>                <script type=\"text/javascript\">window.PlotlyConfig = {MathJaxConfig: 'local'};</script>\n",
              "        <script src=\"https://cdn.plot.ly/plotly-2.8.3.min.js\"></script>                <div id=\"6a197f57-0d2c-410c-a121-7192bfd2c300\" class=\"plotly-graph-div\" style=\"height:525px; width:100%;\"></div>            <script type=\"text/javascript\">                                    window.PLOTLYENV=window.PLOTLYENV || {};                                    if (document.getElementById(\"6a197f57-0d2c-410c-a121-7192bfd2c300\")) {                    Plotly.newPlot(                        \"6a197f57-0d2c-410c-a121-7192bfd2c300\",                        [{\"line\":{\"color\":\"blue\"},\"mode\":\"lines+markers\",\"name\":\"Gateways=20 for greedy equation1\",\"x\":[5,10,15,20,25,30,35,40,45,50,55,60,65,70,75,80,85,90,95,100],\"y\":[5.0,10.0,14.616438356164384,11.4,9.024096385542169,7.938775510204081,6.38,6.0,4.97,4.52,4.11,4.24,3.99,3.67,3.57,3.45,3.25,3.66,3.4,2.78],\"type\":\"scatter\",\"textposition\":\"bottom right\"},{\"mode\":\"lines+markers\",\"name\":\"Gateways=40 for greedy equation1\",\"x\":[5,10,15,20,25,30,35,40,45,50,55,60,65,70,75,80,85,90,95,100],\"y\":[5.0,10.0,15.0,20.0,25.0,29.595238095238095,31.815384615384616,28.234375,21.679012345679013,18.572916666666668,16.242424242424242,14.02,13.15,11.86,11.82,10.28,9.88,9.66,8.99,9.09],\"type\":\"scatter\",\"textposition\":\"bottom right\"},{\"mode\":\"lines+markers\",\"name\":\"Gateways=60 for greedy equation1\",\"x\":[5,10,15,20,25,30,35,40,45,50,55,60,65,70,75,80,85,90,95,100],\"y\":[5.0,10.0,15.0,20.0,25.0,30.0,35.0,40.0,45.0,49.49411764705882,52.04477611940298,43.682539682539684,33.9125,31.921348314606742,26.72,24.73,23.31,21.51,19.2,18.13],\"type\":\"scatter\",\"textposition\":\"bottom right\"},{\"mode\":\"lines+markers\",\"name\":\"Gateways=80 for greedy equation1\",\"x\":[5,10,15,20,25,30,35,40,45,50,55,60,65,70,75,80,85,90,95,100],\"y\":[5.0,10.0,15.0,20.0,25.0,30.0,35.0,40.0,45.0,50.0,55.0,60.0,64.85714285714286,69.55294117647058,66.75,61.267605633802816,53.764044943820224,42.08045977011494,38.791666666666664,35.224489795918366],\"type\":\"scatter\",\"textposition\":\"bottom right\"},{\"line\":{\"color\":\"blue\"},\"mode\":\"lines\",\"name\":\"Gateways=20 for greedy equation2\",\"x\":[5,10,15,20,25,30,35,40,45,50,55,60,65,70,75,80,85,90,95,100],\"y\":[5.0,10.0,14.773333333333333,18.196428571428573,18.136363636363637,18.06741573033708,18.545454545454547,19.73,18.95,19.33,19.26,19.65,19.79,19.44,19.56,19.28,19.5,19.75,20.52,19.89],\"type\":\"scatter\",\"textposition\":\"bottom right\"},{\"mode\":\"lines\",\"name\":\"Gateways=40 for greedy equation2\",\"x\":[5,10,15,20,25,30,35,40,45,50,55,60,65,70,75,80,85,90,95,100],\"y\":[5.0,10.0,15.0,20.0,25.0,30.0,34.5945945945946,37.484375,38.111111111111114,38.395348837209305,38.47959183673469,38.96,38.85,39.38,39.74,39.15,39.7,39.01,39.65,39.59],\"type\":\"scatter\",\"textposition\":\"bottom right\"},{\"mode\":\"lines\",\"name\":\"Gateways=60 for greedy equation2\",\"x\":[5,10,15,20,25,30,35,40,45,50,55,60,65,70,75,80,85,90,95,100],\"y\":[5.0,10.0,15.0,20.0,25.0,30.0,35.0,40.0,45.0,49.888888888888886,54.30952380952381,57.1764705882353,56.4078947368421,57.473118279569896,58.775510204081634,58.49,59.16,59.77,60.1,58.97],\"type\":\"scatter\",\"textposition\":\"bottom right\"},{\"line\":{\"color\":\"red\"},\"mode\":\"lines\",\"name\":\"Gateways=80 for greedy equation2\",\"x\":[5,10,15,20,25,30,35,40,45,50,55,60,65,70,75,80,85,90,95,100],\"y\":[5.0,10.0,15.0,20.0,25.0,30.0,35.0,40.0,45.0,50.0,55.0,60.0,65.0,69.93548387096774,74.0246913580247,76.41428571428571,77.425,77.5909090909091,78.51041666666667,78.59183673469387],\"type\":\"scatter\",\"textposition\":\"bottom right\"}],                        {\"template\":{\"data\":{\"bar\":[{\"error_x\":{\"color\":\"#2a3f5f\"},\"error_y\":{\"color\":\"#2a3f5f\"},\"marker\":{\"line\":{\"color\":\"#E5ECF6\",\"width\":0.5},\"pattern\":{\"fillmode\":\"overlay\",\"size\":10,\"solidity\":0.2}},\"type\":\"bar\"}],\"barpolar\":[{\"marker\":{\"line\":{\"color\":\"#E5ECF6\",\"width\":0.5},\"pattern\":{\"fillmode\":\"overlay\",\"size\":10,\"solidity\":0.2}},\"type\":\"barpolar\"}],\"carpet\":[{\"aaxis\":{\"endlinecolor\":\"#2a3f5f\",\"gridcolor\":\"white\",\"linecolor\":\"white\",\"minorgridcolor\":\"white\",\"startlinecolor\":\"#2a3f5f\"},\"baxis\":{\"endlinecolor\":\"#2a3f5f\",\"gridcolor\":\"white\",\"linecolor\":\"white\",\"minorgridcolor\":\"white\",\"startlinecolor\":\"#2a3f5f\"},\"type\":\"carpet\"}],\"choropleth\":[{\"colorbar\":{\"outlinewidth\":0,\"ticks\":\"\"},\"type\":\"choropleth\"}],\"contour\":[{\"colorbar\":{\"outlinewidth\":0,\"ticks\":\"\"},\"colorscale\":[[0.0,\"#0d0887\"],[0.1111111111111111,\"#46039f\"],[0.2222222222222222,\"#7201a8\"],[0.3333333333333333,\"#9c179e\"],[0.4444444444444444,\"#bd3786\"],[0.5555555555555556,\"#d8576b\"],[0.6666666666666666,\"#ed7953\"],[0.7777777777777778,\"#fb9f3a\"],[0.8888888888888888,\"#fdca26\"],[1.0,\"#f0f921\"]],\"type\":\"contour\"}],\"contourcarpet\":[{\"colorbar\":{\"outlinewidth\":0,\"ticks\":\"\"},\"type\":\"contourcarpet\"}],\"heatmap\":[{\"colorbar\":{\"outlinewidth\":0,\"ticks\":\"\"},\"colorscale\":[[0.0,\"#0d0887\"],[0.1111111111111111,\"#46039f\"],[0.2222222222222222,\"#7201a8\"],[0.3333333333333333,\"#9c179e\"],[0.4444444444444444,\"#bd3786\"],[0.5555555555555556,\"#d8576b\"],[0.6666666666666666,\"#ed7953\"],[0.7777777777777778,\"#fb9f3a\"],[0.8888888888888888,\"#fdca26\"],[1.0,\"#f0f921\"]],\"type\":\"heatmap\"}],\"heatmapgl\":[{\"colorbar\":{\"outlinewidth\":0,\"ticks\":\"\"},\"colorscale\":[[0.0,\"#0d0887\"],[0.1111111111111111,\"#46039f\"],[0.2222222222222222,\"#7201a8\"],[0.3333333333333333,\"#9c179e\"],[0.4444444444444444,\"#bd3786\"],[0.5555555555555556,\"#d8576b\"],[0.6666666666666666,\"#ed7953\"],[0.7777777777777778,\"#fb9f3a\"],[0.8888888888888888,\"#fdca26\"],[1.0,\"#f0f921\"]],\"type\":\"heatmapgl\"}],\"histogram\":[{\"marker\":{\"pattern\":{\"fillmode\":\"overlay\",\"size\":10,\"solidity\":0.2}},\"type\":\"histogram\"}],\"histogram2d\":[{\"colorbar\":{\"outlinewidth\":0,\"ticks\":\"\"},\"colorscale\":[[0.0,\"#0d0887\"],[0.1111111111111111,\"#46039f\"],[0.2222222222222222,\"#7201a8\"],[0.3333333333333333,\"#9c179e\"],[0.4444444444444444,\"#bd3786\"],[0.5555555555555556,\"#d8576b\"],[0.6666666666666666,\"#ed7953\"],[0.7777777777777778,\"#fb9f3a\"],[0.8888888888888888,\"#fdca26\"],[1.0,\"#f0f921\"]],\"type\":\"histogram2d\"}],\"histogram2dcontour\":[{\"colorbar\":{\"outlinewidth\":0,\"ticks\":\"\"},\"colorscale\":[[0.0,\"#0d0887\"],[0.1111111111111111,\"#46039f\"],[0.2222222222222222,\"#7201a8\"],[0.3333333333333333,\"#9c179e\"],[0.4444444444444444,\"#bd3786\"],[0.5555555555555556,\"#d8576b\"],[0.6666666666666666,\"#ed7953\"],[0.7777777777777778,\"#fb9f3a\"],[0.8888888888888888,\"#fdca26\"],[1.0,\"#f0f921\"]],\"type\":\"histogram2dcontour\"}],\"mesh3d\":[{\"colorbar\":{\"outlinewidth\":0,\"ticks\":\"\"},\"type\":\"mesh3d\"}],\"parcoords\":[{\"line\":{\"colorbar\":{\"outlinewidth\":0,\"ticks\":\"\"}},\"type\":\"parcoords\"}],\"pie\":[{\"automargin\":true,\"type\":\"pie\"}],\"scatter\":[{\"marker\":{\"colorbar\":{\"outlinewidth\":0,\"ticks\":\"\"}},\"type\":\"scatter\"}],\"scatter3d\":[{\"line\":{\"colorbar\":{\"outlinewidth\":0,\"ticks\":\"\"}},\"marker\":{\"colorbar\":{\"outlinewidth\":0,\"ticks\":\"\"}},\"type\":\"scatter3d\"}],\"scattercarpet\":[{\"marker\":{\"colorbar\":{\"outlinewidth\":0,\"ticks\":\"\"}},\"type\":\"scattercarpet\"}],\"scattergeo\":[{\"marker\":{\"colorbar\":{\"outlinewidth\":0,\"ticks\":\"\"}},\"type\":\"scattergeo\"}],\"scattergl\":[{\"marker\":{\"colorbar\":{\"outlinewidth\":0,\"ticks\":\"\"}},\"type\":\"scattergl\"}],\"scattermapbox\":[{\"marker\":{\"colorbar\":{\"outlinewidth\":0,\"ticks\":\"\"}},\"type\":\"scattermapbox\"}],\"scatterpolar\":[{\"marker\":{\"colorbar\":{\"outlinewidth\":0,\"ticks\":\"\"}},\"type\":\"scatterpolar\"}],\"scatterpolargl\":[{\"marker\":{\"colorbar\":{\"outlinewidth\":0,\"ticks\":\"\"}},\"type\":\"scatterpolargl\"}],\"scatterternary\":[{\"marker\":{\"colorbar\":{\"outlinewidth\":0,\"ticks\":\"\"}},\"type\":\"scatterternary\"}],\"surface\":[{\"colorbar\":{\"outlinewidth\":0,\"ticks\":\"\"},\"colorscale\":[[0.0,\"#0d0887\"],[0.1111111111111111,\"#46039f\"],[0.2222222222222222,\"#7201a8\"],[0.3333333333333333,\"#9c179e\"],[0.4444444444444444,\"#bd3786\"],[0.5555555555555556,\"#d8576b\"],[0.6666666666666666,\"#ed7953\"],[0.7777777777777778,\"#fb9f3a\"],[0.8888888888888888,\"#fdca26\"],[1.0,\"#f0f921\"]],\"type\":\"surface\"}],\"table\":[{\"cells\":{\"fill\":{\"color\":\"#EBF0F8\"},\"line\":{\"color\":\"white\"}},\"header\":{\"fill\":{\"color\":\"#C8D4E3\"},\"line\":{\"color\":\"white\"}},\"type\":\"table\"}]},\"layout\":{\"annotationdefaults\":{\"arrowcolor\":\"#2a3f5f\",\"arrowhead\":0,\"arrowwidth\":1},\"autotypenumbers\":\"strict\",\"coloraxis\":{\"colorbar\":{\"outlinewidth\":0,\"ticks\":\"\"}},\"colorscale\":{\"diverging\":[[0,\"#8e0152\"],[0.1,\"#c51b7d\"],[0.2,\"#de77ae\"],[0.3,\"#f1b6da\"],[0.4,\"#fde0ef\"],[0.5,\"#f7f7f7\"],[0.6,\"#e6f5d0\"],[0.7,\"#b8e186\"],[0.8,\"#7fbc41\"],[0.9,\"#4d9221\"],[1,\"#276419\"]],\"sequential\":[[0.0,\"#0d0887\"],[0.1111111111111111,\"#46039f\"],[0.2222222222222222,\"#7201a8\"],[0.3333333333333333,\"#9c179e\"],[0.4444444444444444,\"#bd3786\"],[0.5555555555555556,\"#d8576b\"],[0.6666666666666666,\"#ed7953\"],[0.7777777777777778,\"#fb9f3a\"],[0.8888888888888888,\"#fdca26\"],[1.0,\"#f0f921\"]],\"sequentialminus\":[[0.0,\"#0d0887\"],[0.1111111111111111,\"#46039f\"],[0.2222222222222222,\"#7201a8\"],[0.3333333333333333,\"#9c179e\"],[0.4444444444444444,\"#bd3786\"],[0.5555555555555556,\"#d8576b\"],[0.6666666666666666,\"#ed7953\"],[0.7777777777777778,\"#fb9f3a\"],[0.8888888888888888,\"#fdca26\"],[1.0,\"#f0f921\"]]},\"colorway\":[\"#636efa\",\"#EF553B\",\"#00cc96\",\"#ab63fa\",\"#FFA15A\",\"#19d3f3\",\"#FF6692\",\"#B6E880\",\"#FF97FF\",\"#FECB52\"],\"font\":{\"color\":\"#2a3f5f\"},\"geo\":{\"bgcolor\":\"white\",\"lakecolor\":\"white\",\"landcolor\":\"#E5ECF6\",\"showlakes\":true,\"showland\":true,\"subunitcolor\":\"white\"},\"hoverlabel\":{\"align\":\"left\"},\"hovermode\":\"closest\",\"mapbox\":{\"style\":\"light\"},\"paper_bgcolor\":\"white\",\"plot_bgcolor\":\"#E5ECF6\",\"polar\":{\"angularaxis\":{\"gridcolor\":\"white\",\"linecolor\":\"white\",\"ticks\":\"\"},\"bgcolor\":\"#E5ECF6\",\"radialaxis\":{\"gridcolor\":\"white\",\"linecolor\":\"white\",\"ticks\":\"\"}},\"scene\":{\"xaxis\":{\"backgroundcolor\":\"#E5ECF6\",\"gridcolor\":\"white\",\"gridwidth\":2,\"linecolor\":\"white\",\"showbackground\":true,\"ticks\":\"\",\"zerolinecolor\":\"white\"},\"yaxis\":{\"backgroundcolor\":\"#E5ECF6\",\"gridcolor\":\"white\",\"gridwidth\":2,\"linecolor\":\"white\",\"showbackground\":true,\"ticks\":\"\",\"zerolinecolor\":\"white\"},\"zaxis\":{\"backgroundcolor\":\"#E5ECF6\",\"gridcolor\":\"white\",\"gridwidth\":2,\"linecolor\":\"white\",\"showbackground\":true,\"ticks\":\"\",\"zerolinecolor\":\"white\"}},\"shapedefaults\":{\"line\":{\"color\":\"#2a3f5f\"}},\"ternary\":{\"aaxis\":{\"gridcolor\":\"white\",\"linecolor\":\"white\",\"ticks\":\"\"},\"baxis\":{\"gridcolor\":\"white\",\"linecolor\":\"white\",\"ticks\":\"\"},\"bgcolor\":\"#E5ECF6\",\"caxis\":{\"gridcolor\":\"white\",\"linecolor\":\"white\",\"ticks\":\"\"}},\"title\":{\"x\":0.05},\"xaxis\":{\"automargin\":true,\"gridcolor\":\"white\",\"linecolor\":\"white\",\"ticks\":\"\",\"title\":{\"standoff\":15},\"zerolinecolor\":\"white\",\"zerolinewidth\":2},\"yaxis\":{\"automargin\":true,\"gridcolor\":\"white\",\"linecolor\":\"white\",\"ticks\":\"\",\"title\":{\"standoff\":15},\"zerolinecolor\":\"white\",\"zerolinewidth\":2}}},\"title\":{\"text\":\"Data sent fully v/s variable node with constant Gateways\"},\"xaxis\":{\"title\":{\"text\":\"Variable Nodes\"}},\"yaxis\":{\"title\":{\"text\":\"No of Nodes data sent fully\"}}},                        {\"responsive\": true}                    ).then(function(){\n",
              "                            \n",
              "var gd = document.getElementById('6a197f57-0d2c-410c-a121-7192bfd2c300');\n",
              "var x = new MutationObserver(function (mutations, observer) {{\n",
              "        var display = window.getComputedStyle(gd).display;\n",
              "        if (!display || display === 'none') {{\n",
              "            console.log([gd, 'removed!']);\n",
              "            Plotly.purge(gd);\n",
              "            observer.disconnect();\n",
              "        }}\n",
              "}});\n",
              "\n",
              "// Listen for the removal of the full notebook cells\n",
              "var notebookContainer = gd.closest('#notebook-container');\n",
              "if (notebookContainer) {{\n",
              "    x.observe(notebookContainer, {childList: true});\n",
              "}}\n",
              "\n",
              "// Listen for the clearing of the current output cell\n",
              "var outputEl = gd.closest('.output');\n",
              "if (outputEl) {{\n",
              "    x.observe(outputEl, {childList: true});\n",
              "}}\n",
              "\n",
              "                        })                };                            </script>        </div>\n",
              "</body>\n",
              "</html>"
            ]
          },
          "metadata": {}
        }
      ]
    },
    {
      "cell_type": "code",
      "source": [
        "#Graph 6:#graph 6 Total power conmsuption varible node and constant gateways 100-200-300\n",
        "x = [x for x in range(5,101,5)]\n",
        "y1 = [246.38, 498.64, 738.57, 993.07, 1235.71, 1490.46, 1725.39, 1986.07, 2222.93, 2439.64, 2704.95, 2967.95, 3208.47, 3497.62, 3658.01, 3951.48, 4219.61052631579, 4425.247311827957, 4571.576923076923, 4786.239436619719]\n",
        "z1 = [245.05, 501.44, 716.12, 984.7, 1264.55, 1498.06, 1731.15, 1991.24, 2210.12, 2468.96, 2691.48, 2960.95, 3248.72, 3452.31, 3703.69, 3995.11, 4230.86, 4436.52, 4698.49, 4915.26]\n",
        "m1 = [247.26, 472.38, 727.4, 984.47, 1259.71, 1510.35, 1742.54, 1974.76, 2246.72, 2482.02, 2724.06, 2997.03, 3233.27, 3495.28, 3725.2, 4000.75, 4181.03, 4464.54, 4703.59, 4972.64]\n",
        "\n",
        "\n"
      ],
      "metadata": {
        "id": "pHt7uf76iafN"
      },
      "execution_count": null,
      "outputs": []
    },
    {
      "cell_type": "code",
      "source": [
        "y2=[246.52, 490.92, 718.68, 983.44, 1214.84, 1517.32, 1718.96, 2013.36, 2218.68, 2453.48, 2768.84, 2933.52, 3168.68, 3383.72, 3675.04, 3880.4166666666665, 4183.625, 4276.421052631579, 4464.444444444444, 4744.888888888889]\n",
        "z2=[246.6, 522.0, 713.96, 932.24, 1254.16, 1490.36, 1800.24, 2032.56, 2269.52, 2550.96, 2799.72, 2955.52, 3242.84, 3502.76, 3639.6, 3933.24, 4329.72, 4428.96, 4741.92, 4981.28]\n",
        "m2=[255.44, 498.2, 712.24, 972.0, 1218.28, 1435.08, 1704.52, 2081.68, 2240.36, 2412.24, 2723.28, 2954.36, 3249.72, 3486.68, 3669.96, 3937.32, 4309.76, 4459.28, 4734.8, 4841.64]"
      ],
      "metadata": {
        "id": "qbfAdgPSmzSR"
      },
      "execution_count": null,
      "outputs": []
    },
    {
      "cell_type": "code",
      "source": [
        ""
      ],
      "metadata": {
        "id": "UgWxFK9qm6qM"
      },
      "execution_count": null,
      "outputs": []
    },
    {
      "cell_type": "code",
      "source": [
        "import plotly.express as px\n",
        "import plotly.graph_objects as go\n",
        "from plotly.graph_objs.layout import Title\n",
        "import pandas as pd\n",
        "\n",
        "\n",
        "fig = go.Figure()\n",
        "fig.add_trace(\n",
        "    go.Scatter(x=x, y=y1, name=\"Gateways=20 for greedy equation1\", line=dict(color=\"blue\"), mode=\"lines+markers\")   \n",
        ")\n",
        "fig.add_trace(\n",
        "    go.Scatter(x=x, y=z1, name=\"Gateways=40 for greedy equation1\", mode='lines+markers')\n",
        ")\n",
        "fig.add_trace(\n",
        "    go.Scatter(x=x, y=m1, name=\"Gateways=60 for greedy equation1\", mode=\"lines+markers\")\n",
        ")\n",
        "\n",
        "\n",
        "fig.add_trace(\n",
        "    go.Scatter(x=x, y=y2, name=\"Gateways=20 for greedy equation2\", line=dict(color=\"blue\"), mode=\"lines\")   \n",
        ")\n",
        "fig.add_trace(\n",
        "    go.Scatter(x=x, y=z2, name=\"Gateways=40 for greedy equation2\", mode='lines')\n",
        ")\n",
        "fig.add_trace(\n",
        "    go.Scatter(x=x, y=m2, name=\"Gateways=60 for greedy equation2\", mode=\"lines\")\n",
        ")\n",
        "\n",
        "\n",
        "fig.update_layout(\n",
        "    title = \"Total power consumption v/s variable nodes and constant gateways\",\n",
        "    xaxis_title = \"Variable Nodes\",\n",
        "    yaxis_title = \"Total Power Consumption\",\n",
        ")\n",
        "fig.update_traces(textposition = \"bottom right\")"
      ],
      "metadata": {
        "id": "cu5A-6NHku9o",
        "outputId": "48c91ba3-311d-402f-8126-9cea42e85aaf",
        "colab": {
          "base_uri": "https://localhost:8080/",
          "height": 542
        }
      },
      "execution_count": null,
      "outputs": [
        {
          "output_type": "display_data",
          "data": {
            "text/html": [
              "<html>\n",
              "<head><meta charset=\"utf-8\" /></head>\n",
              "<body>\n",
              "    <div>            <script src=\"https://cdnjs.cloudflare.com/ajax/libs/mathjax/2.7.5/MathJax.js?config=TeX-AMS-MML_SVG\"></script><script type=\"text/javascript\">if (window.MathJax) {MathJax.Hub.Config({SVG: {font: \"STIX-Web\"}});}</script>                <script type=\"text/javascript\">window.PlotlyConfig = {MathJaxConfig: 'local'};</script>\n",
              "        <script src=\"https://cdn.plot.ly/plotly-2.8.3.min.js\"></script>                <div id=\"5b3d5743-bca8-48df-86c5-5df76fd6ed74\" class=\"plotly-graph-div\" style=\"height:525px; width:100%;\"></div>            <script type=\"text/javascript\">                                    window.PLOTLYENV=window.PLOTLYENV || {};                                    if (document.getElementById(\"5b3d5743-bca8-48df-86c5-5df76fd6ed74\")) {                    Plotly.newPlot(                        \"5b3d5743-bca8-48df-86c5-5df76fd6ed74\",                        [{\"line\":{\"color\":\"blue\"},\"mode\":\"lines+markers\",\"name\":\"Gateways=20 for greedy equation1\",\"x\":[5,10,15,20,25,30,35,40,45,50,55,60,65,70,75,80,85,90,95,100],\"y\":[246.38,498.64,738.57,993.07,1235.71,1490.46,1725.39,1986.07,2222.93,2439.64,2704.95,2967.95,3208.47,3497.62,3658.01,3951.48,4219.61052631579,4425.247311827957,4571.576923076923,4786.239436619719],\"type\":\"scatter\",\"textposition\":\"bottom right\"},{\"mode\":\"lines+markers\",\"name\":\"Gateways=40 for greedy equation1\",\"x\":[5,10,15,20,25,30,35,40,45,50,55,60,65,70,75,80,85,90,95,100],\"y\":[245.05,501.44,716.12,984.7,1264.55,1498.06,1731.15,1991.24,2210.12,2468.96,2691.48,2960.95,3248.72,3452.31,3703.69,3995.11,4230.86,4436.52,4698.49,4915.26],\"type\":\"scatter\",\"textposition\":\"bottom right\"},{\"mode\":\"lines+markers\",\"name\":\"Gateways=60 for greedy equation1\",\"x\":[5,10,15,20,25,30,35,40,45,50,55,60,65,70,75,80,85,90,95,100],\"y\":[247.26,472.38,727.4,984.47,1259.71,1510.35,1742.54,1974.76,2246.72,2482.02,2724.06,2997.03,3233.27,3495.28,3725.2,4000.75,4181.03,4464.54,4703.59,4972.64],\"type\":\"scatter\",\"textposition\":\"bottom right\"},{\"line\":{\"color\":\"blue\"},\"mode\":\"lines\",\"name\":\"Gateways=20 for greedy equation2\",\"x\":[5,10,15,20,25,30,35,40,45,50,55,60,65,70,75,80,85,90,95,100],\"y\":[246.52,490.92,718.68,983.44,1214.84,1517.32,1718.96,2013.36,2218.68,2453.48,2768.84,2933.52,3168.68,3383.72,3675.04,3880.4166666666665,4183.625,4276.421052631579,4464.444444444444,4744.888888888889],\"type\":\"scatter\",\"textposition\":\"bottom right\"},{\"mode\":\"lines\",\"name\":\"Gateways=40 for greedy equation2\",\"x\":[5,10,15,20,25,30,35,40,45,50,55,60,65,70,75,80,85,90,95,100],\"y\":[246.6,522.0,713.96,932.24,1254.16,1490.36,1800.24,2032.56,2269.52,2550.96,2799.72,2955.52,3242.84,3502.76,3639.6,3933.24,4329.72,4428.96,4741.92,4981.28],\"type\":\"scatter\",\"textposition\":\"bottom right\"},{\"mode\":\"lines\",\"name\":\"Gateways=60 for greedy equation2\",\"x\":[5,10,15,20,25,30,35,40,45,50,55,60,65,70,75,80,85,90,95,100],\"y\":[255.44,498.2,712.24,972.0,1218.28,1435.08,1704.52,2081.68,2240.36,2412.24,2723.28,2954.36,3249.72,3486.68,3669.96,3937.32,4309.76,4459.28,4734.8,4841.64],\"type\":\"scatter\",\"textposition\":\"bottom right\"}],                        {\"template\":{\"data\":{\"bar\":[{\"error_x\":{\"color\":\"#2a3f5f\"},\"error_y\":{\"color\":\"#2a3f5f\"},\"marker\":{\"line\":{\"color\":\"#E5ECF6\",\"width\":0.5},\"pattern\":{\"fillmode\":\"overlay\",\"size\":10,\"solidity\":0.2}},\"type\":\"bar\"}],\"barpolar\":[{\"marker\":{\"line\":{\"color\":\"#E5ECF6\",\"width\":0.5},\"pattern\":{\"fillmode\":\"overlay\",\"size\":10,\"solidity\":0.2}},\"type\":\"barpolar\"}],\"carpet\":[{\"aaxis\":{\"endlinecolor\":\"#2a3f5f\",\"gridcolor\":\"white\",\"linecolor\":\"white\",\"minorgridcolor\":\"white\",\"startlinecolor\":\"#2a3f5f\"},\"baxis\":{\"endlinecolor\":\"#2a3f5f\",\"gridcolor\":\"white\",\"linecolor\":\"white\",\"minorgridcolor\":\"white\",\"startlinecolor\":\"#2a3f5f\"},\"type\":\"carpet\"}],\"choropleth\":[{\"colorbar\":{\"outlinewidth\":0,\"ticks\":\"\"},\"type\":\"choropleth\"}],\"contour\":[{\"colorbar\":{\"outlinewidth\":0,\"ticks\":\"\"},\"colorscale\":[[0.0,\"#0d0887\"],[0.1111111111111111,\"#46039f\"],[0.2222222222222222,\"#7201a8\"],[0.3333333333333333,\"#9c179e\"],[0.4444444444444444,\"#bd3786\"],[0.5555555555555556,\"#d8576b\"],[0.6666666666666666,\"#ed7953\"],[0.7777777777777778,\"#fb9f3a\"],[0.8888888888888888,\"#fdca26\"],[1.0,\"#f0f921\"]],\"type\":\"contour\"}],\"contourcarpet\":[{\"colorbar\":{\"outlinewidth\":0,\"ticks\":\"\"},\"type\":\"contourcarpet\"}],\"heatmap\":[{\"colorbar\":{\"outlinewidth\":0,\"ticks\":\"\"},\"colorscale\":[[0.0,\"#0d0887\"],[0.1111111111111111,\"#46039f\"],[0.2222222222222222,\"#7201a8\"],[0.3333333333333333,\"#9c179e\"],[0.4444444444444444,\"#bd3786\"],[0.5555555555555556,\"#d8576b\"],[0.6666666666666666,\"#ed7953\"],[0.7777777777777778,\"#fb9f3a\"],[0.8888888888888888,\"#fdca26\"],[1.0,\"#f0f921\"]],\"type\":\"heatmap\"}],\"heatmapgl\":[{\"colorbar\":{\"outlinewidth\":0,\"ticks\":\"\"},\"colorscale\":[[0.0,\"#0d0887\"],[0.1111111111111111,\"#46039f\"],[0.2222222222222222,\"#7201a8\"],[0.3333333333333333,\"#9c179e\"],[0.4444444444444444,\"#bd3786\"],[0.5555555555555556,\"#d8576b\"],[0.6666666666666666,\"#ed7953\"],[0.7777777777777778,\"#fb9f3a\"],[0.8888888888888888,\"#fdca26\"],[1.0,\"#f0f921\"]],\"type\":\"heatmapgl\"}],\"histogram\":[{\"marker\":{\"pattern\":{\"fillmode\":\"overlay\",\"size\":10,\"solidity\":0.2}},\"type\":\"histogram\"}],\"histogram2d\":[{\"colorbar\":{\"outlinewidth\":0,\"ticks\":\"\"},\"colorscale\":[[0.0,\"#0d0887\"],[0.1111111111111111,\"#46039f\"],[0.2222222222222222,\"#7201a8\"],[0.3333333333333333,\"#9c179e\"],[0.4444444444444444,\"#bd3786\"],[0.5555555555555556,\"#d8576b\"],[0.6666666666666666,\"#ed7953\"],[0.7777777777777778,\"#fb9f3a\"],[0.8888888888888888,\"#fdca26\"],[1.0,\"#f0f921\"]],\"type\":\"histogram2d\"}],\"histogram2dcontour\":[{\"colorbar\":{\"outlinewidth\":0,\"ticks\":\"\"},\"colorscale\":[[0.0,\"#0d0887\"],[0.1111111111111111,\"#46039f\"],[0.2222222222222222,\"#7201a8\"],[0.3333333333333333,\"#9c179e\"],[0.4444444444444444,\"#bd3786\"],[0.5555555555555556,\"#d8576b\"],[0.6666666666666666,\"#ed7953\"],[0.7777777777777778,\"#fb9f3a\"],[0.8888888888888888,\"#fdca26\"],[1.0,\"#f0f921\"]],\"type\":\"histogram2dcontour\"}],\"mesh3d\":[{\"colorbar\":{\"outlinewidth\":0,\"ticks\":\"\"},\"type\":\"mesh3d\"}],\"parcoords\":[{\"line\":{\"colorbar\":{\"outlinewidth\":0,\"ticks\":\"\"}},\"type\":\"parcoords\"}],\"pie\":[{\"automargin\":true,\"type\":\"pie\"}],\"scatter\":[{\"marker\":{\"colorbar\":{\"outlinewidth\":0,\"ticks\":\"\"}},\"type\":\"scatter\"}],\"scatter3d\":[{\"line\":{\"colorbar\":{\"outlinewidth\":0,\"ticks\":\"\"}},\"marker\":{\"colorbar\":{\"outlinewidth\":0,\"ticks\":\"\"}},\"type\":\"scatter3d\"}],\"scattercarpet\":[{\"marker\":{\"colorbar\":{\"outlinewidth\":0,\"ticks\":\"\"}},\"type\":\"scattercarpet\"}],\"scattergeo\":[{\"marker\":{\"colorbar\":{\"outlinewidth\":0,\"ticks\":\"\"}},\"type\":\"scattergeo\"}],\"scattergl\":[{\"marker\":{\"colorbar\":{\"outlinewidth\":0,\"ticks\":\"\"}},\"type\":\"scattergl\"}],\"scattermapbox\":[{\"marker\":{\"colorbar\":{\"outlinewidth\":0,\"ticks\":\"\"}},\"type\":\"scattermapbox\"}],\"scatterpolar\":[{\"marker\":{\"colorbar\":{\"outlinewidth\":0,\"ticks\":\"\"}},\"type\":\"scatterpolar\"}],\"scatterpolargl\":[{\"marker\":{\"colorbar\":{\"outlinewidth\":0,\"ticks\":\"\"}},\"type\":\"scatterpolargl\"}],\"scatterternary\":[{\"marker\":{\"colorbar\":{\"outlinewidth\":0,\"ticks\":\"\"}},\"type\":\"scatterternary\"}],\"surface\":[{\"colorbar\":{\"outlinewidth\":0,\"ticks\":\"\"},\"colorscale\":[[0.0,\"#0d0887\"],[0.1111111111111111,\"#46039f\"],[0.2222222222222222,\"#7201a8\"],[0.3333333333333333,\"#9c179e\"],[0.4444444444444444,\"#bd3786\"],[0.5555555555555556,\"#d8576b\"],[0.6666666666666666,\"#ed7953\"],[0.7777777777777778,\"#fb9f3a\"],[0.8888888888888888,\"#fdca26\"],[1.0,\"#f0f921\"]],\"type\":\"surface\"}],\"table\":[{\"cells\":{\"fill\":{\"color\":\"#EBF0F8\"},\"line\":{\"color\":\"white\"}},\"header\":{\"fill\":{\"color\":\"#C8D4E3\"},\"line\":{\"color\":\"white\"}},\"type\":\"table\"}]},\"layout\":{\"annotationdefaults\":{\"arrowcolor\":\"#2a3f5f\",\"arrowhead\":0,\"arrowwidth\":1},\"autotypenumbers\":\"strict\",\"coloraxis\":{\"colorbar\":{\"outlinewidth\":0,\"ticks\":\"\"}},\"colorscale\":{\"diverging\":[[0,\"#8e0152\"],[0.1,\"#c51b7d\"],[0.2,\"#de77ae\"],[0.3,\"#f1b6da\"],[0.4,\"#fde0ef\"],[0.5,\"#f7f7f7\"],[0.6,\"#e6f5d0\"],[0.7,\"#b8e186\"],[0.8,\"#7fbc41\"],[0.9,\"#4d9221\"],[1,\"#276419\"]],\"sequential\":[[0.0,\"#0d0887\"],[0.1111111111111111,\"#46039f\"],[0.2222222222222222,\"#7201a8\"],[0.3333333333333333,\"#9c179e\"],[0.4444444444444444,\"#bd3786\"],[0.5555555555555556,\"#d8576b\"],[0.6666666666666666,\"#ed7953\"],[0.7777777777777778,\"#fb9f3a\"],[0.8888888888888888,\"#fdca26\"],[1.0,\"#f0f921\"]],\"sequentialminus\":[[0.0,\"#0d0887\"],[0.1111111111111111,\"#46039f\"],[0.2222222222222222,\"#7201a8\"],[0.3333333333333333,\"#9c179e\"],[0.4444444444444444,\"#bd3786\"],[0.5555555555555556,\"#d8576b\"],[0.6666666666666666,\"#ed7953\"],[0.7777777777777778,\"#fb9f3a\"],[0.8888888888888888,\"#fdca26\"],[1.0,\"#f0f921\"]]},\"colorway\":[\"#636efa\",\"#EF553B\",\"#00cc96\",\"#ab63fa\",\"#FFA15A\",\"#19d3f3\",\"#FF6692\",\"#B6E880\",\"#FF97FF\",\"#FECB52\"],\"font\":{\"color\":\"#2a3f5f\"},\"geo\":{\"bgcolor\":\"white\",\"lakecolor\":\"white\",\"landcolor\":\"#E5ECF6\",\"showlakes\":true,\"showland\":true,\"subunitcolor\":\"white\"},\"hoverlabel\":{\"align\":\"left\"},\"hovermode\":\"closest\",\"mapbox\":{\"style\":\"light\"},\"paper_bgcolor\":\"white\",\"plot_bgcolor\":\"#E5ECF6\",\"polar\":{\"angularaxis\":{\"gridcolor\":\"white\",\"linecolor\":\"white\",\"ticks\":\"\"},\"bgcolor\":\"#E5ECF6\",\"radialaxis\":{\"gridcolor\":\"white\",\"linecolor\":\"white\",\"ticks\":\"\"}},\"scene\":{\"xaxis\":{\"backgroundcolor\":\"#E5ECF6\",\"gridcolor\":\"white\",\"gridwidth\":2,\"linecolor\":\"white\",\"showbackground\":true,\"ticks\":\"\",\"zerolinecolor\":\"white\"},\"yaxis\":{\"backgroundcolor\":\"#E5ECF6\",\"gridcolor\":\"white\",\"gridwidth\":2,\"linecolor\":\"white\",\"showbackground\":true,\"ticks\":\"\",\"zerolinecolor\":\"white\"},\"zaxis\":{\"backgroundcolor\":\"#E5ECF6\",\"gridcolor\":\"white\",\"gridwidth\":2,\"linecolor\":\"white\",\"showbackground\":true,\"ticks\":\"\",\"zerolinecolor\":\"white\"}},\"shapedefaults\":{\"line\":{\"color\":\"#2a3f5f\"}},\"ternary\":{\"aaxis\":{\"gridcolor\":\"white\",\"linecolor\":\"white\",\"ticks\":\"\"},\"baxis\":{\"gridcolor\":\"white\",\"linecolor\":\"white\",\"ticks\":\"\"},\"bgcolor\":\"#E5ECF6\",\"caxis\":{\"gridcolor\":\"white\",\"linecolor\":\"white\",\"ticks\":\"\"}},\"title\":{\"x\":0.05},\"xaxis\":{\"automargin\":true,\"gridcolor\":\"white\",\"linecolor\":\"white\",\"ticks\":\"\",\"title\":{\"standoff\":15},\"zerolinecolor\":\"white\",\"zerolinewidth\":2},\"yaxis\":{\"automargin\":true,\"gridcolor\":\"white\",\"linecolor\":\"white\",\"ticks\":\"\",\"title\":{\"standoff\":15},\"zerolinecolor\":\"white\",\"zerolinewidth\":2}}},\"title\":{\"text\":\"Total power consumption v/s variable nodes and constant gateways\"},\"xaxis\":{\"title\":{\"text\":\"Variable Nodes\"}},\"yaxis\":{\"title\":{\"text\":\"Total Power Consumption\"}}},                        {\"responsive\": true}                    ).then(function(){\n",
              "                            \n",
              "var gd = document.getElementById('5b3d5743-bca8-48df-86c5-5df76fd6ed74');\n",
              "var x = new MutationObserver(function (mutations, observer) {{\n",
              "        var display = window.getComputedStyle(gd).display;\n",
              "        if (!display || display === 'none') {{\n",
              "            console.log([gd, 'removed!']);\n",
              "            Plotly.purge(gd);\n",
              "            observer.disconnect();\n",
              "        }}\n",
              "}});\n",
              "\n",
              "// Listen for the removal of the full notebook cells\n",
              "var notebookContainer = gd.closest('#notebook-container');\n",
              "if (notebookContainer) {{\n",
              "    x.observe(notebookContainer, {childList: true});\n",
              "}}\n",
              "\n",
              "// Listen for the clearing of the current output cell\n",
              "var outputEl = gd.closest('.output');\n",
              "if (outputEl) {{\n",
              "    x.observe(outputEl, {childList: true});\n",
              "}}\n",
              "\n",
              "                        })                };                            </script>        </div>\n",
              "</body>\n",
              "</html>"
            ]
          },
          "metadata": {}
        }
      ]
    },
    {
      "cell_type": "markdown",
      "source": [
        ""
      ],
      "metadata": {
        "id": "AlcCQi4ZgEf4"
      }
    }
  ]
}